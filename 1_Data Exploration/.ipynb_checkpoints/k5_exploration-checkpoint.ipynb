{
 "cells": [
  {
   "cell_type": "markdown",
   "metadata": {},
   "source": [
    "# Introduction"
   ]
  },
  {
   "cell_type": "markdown",
   "metadata": {},
   "source": [
    "### Background\n",
    "Working in the data space for many years now, I have come to realize that there is nothing more discouraging than not having the ready dataset. In the world of data abundance, this statement may seem premature. However, let me finish my thought here. While it is true that there is more publically available data than I can ever imagine, surprising portion of it is not readily usable. Not all dataset is in impeccable condition as in the case of say, *Handwritten Digit Data Set*. \n",
    "I hit a brick wall when I searched for dataset on Korean dramas. Okay, maybe not a brick wall since I had my good friend, Wikipedia. However, even after using Wikipedia's media API, I had to go through couple iterations of data cleansing process to transform the raw text into a Pandas dataframe. I decided to share the dataset here so anybody who wants it does not have to go through the same frustration I had. "
   ]
  },
  {
   "cell_type": "markdown",
   "metadata": {},
   "source": [
    "### Why Dataset on Korean Dramas?\n",
    "To be honest, I do not watch Korean dramas. I am more of hollywood-made crime/suspense kind of girl. So why Korean dramas? Because I like making something interesting from a blob of data. Too simple? If this were an interview question, I will put more effort into my answer and say the followings: \n",
    "#### (1) K-dramas' unique properties that are different from that of western TV series\n",
    "Korean dramas have gained popularity over the years. Among many reasons why they appeal to a wide range of audience - both in Asia and in Western countries - attractive cast, plot twists, and famous screen writer/director come to my mind. I want to analyze each K-drama in depth, but it will be an another (*big*) project for another time. \n",
    "#### (2) Lack of fun dataset in Korean language\n",
    "There really isn't much. \n",
    "\n",
    "### About myself\n",
    "I am [Doran Bae](https://www.linkedin.com/in/doranbae/), a data scientist working on recommendations in the entertainment industry. I have a Masters degree from UC Berkeley in Master of Information and Data Science ([MIDS](https://www.linkedin.com/school/15139744/)). I am into NLP these days. "
   ]
  },
  {
   "cell_type": "markdown",
   "metadata": {},
   "source": [
    "## Now let's see what I am working with...\n",
    "All the data was gathered using Wikipedia (Korean version) API."
   ]
  },
  {
   "cell_type": "code",
   "execution_count": 16,
   "metadata": {},
   "outputs": [],
   "source": [
    "import pickle\n",
    "import pandas as pd\n",
    "import numpy as np\n",
    "import itertools\n",
    "import seaborn as sns\n",
    "from collections import Counter\n",
    "import matplotlib.pyplot as plt\n",
    "%matplotlib inline"
   ]
  },
  {
   "cell_type": "code",
   "execution_count": 17,
   "metadata": {},
   "outputs": [
    {
     "name": "stdout",
     "output_type": "stream",
     "text": [
      "Loaded k-drama meta dataset :  379  dramas\n"
     ]
    }
   ],
   "source": [
    "file_name = 'data/movie_df.pkl'\n",
    "movie_pk = open(file_name, 'rb')\n",
    "movie_df = pickle.load(movie_pk)\n",
    "print(\"Loaded k-drama meta dataset : \", len(movie_df), \" dramas\")"
   ]
  },
  {
   "cell_type": "code",
   "execution_count": 273,
   "metadata": {},
   "outputs": [
    {
     "data": {
      "text/html": [
       "<div>\n",
       "<style>\n",
       "    .dataframe thead tr:only-child th {\n",
       "        text-align: right;\n",
       "    }\n",
       "\n",
       "    .dataframe thead th {\n",
       "        text-align: left;\n",
       "    }\n",
       "\n",
       "    .dataframe tbody tr th {\n",
       "        vertical-align: top;\n",
       "    }\n",
       "</style>\n",
       "<table border=\"1\" class=\"dataframe\">\n",
       "  <thead>\n",
       "    <tr style=\"text-align: right;\">\n",
       "      <th></th>\n",
       "      <th>title</th>\n",
       "      <th>title_id</th>\n",
       "      <th>tag</th>\n",
       "      <th>genre</th>\n",
       "      <th>summary_detail</th>\n",
       "      <th>episode_nums</th>\n",
       "      <th>episode_duration</th>\n",
       "      <th>title_name</th>\n",
       "      <th>main_cast</th>\n",
       "      <th>staff</th>\n",
       "      <th>plot</th>\n",
       "      <th>topic</th>\n",
       "      <th>origin</th>\n",
       "    </tr>\n",
       "  </thead>\n",
       "  <tbody>\n",
       "    <tr>\n",
       "      <th>31</th>\n",
       "      <td>최고의_한방</td>\n",
       "      <td>31</td>\n",
       "      <td>[연예계, 2017, 여행, 예능, 금토, 시간]</td>\n",
       "      <td>[드라마, 청춘]</td>\n",
       "      <td>《'''최고의 한방'''》은 [[2017년]] [[6월 2일]]부터 [[2017년]...</td>\n",
       "      <td>32</td>\n",
       "      <td>35</td>\n",
       "      <td>최고의 한방</td>\n",
       "      <td>[윤시윤, 이세영 (배우), 김민재 (1996년), 차태현, 동현배]</td>\n",
       "      <td>[유호진, 최지영, 서수민]</td>\n",
       "      <td>사랑하고, 이야기하고, 먹고 사는 것을 치열하게 고민하는 이 시대의 20대 청춘 소란극.</td>\n",
       "      <td>-1</td>\n",
       "      <td>-1</td>\n",
       "    </tr>\n",
       "  </tbody>\n",
       "</table>\n",
       "</div>"
      ],
      "text/plain": [
       "     title  title_id                          tag      genre  \\\n",
       "31  최고의_한방        31  [연예계, 2017, 여행, 예능, 금토, 시간]  [드라마, 청춘]   \n",
       "\n",
       "                                       summary_detail  episode_nums  \\\n",
       "31  《'''최고의 한방'''》은 [[2017년]] [[6월 2일]]부터 [[2017년]...            32   \n",
       "\n",
       "    episode_duration title_name                               main_cast  \\\n",
       "31                35     최고의 한방  [윤시윤, 이세영 (배우), 김민재 (1996년), 차태현, 동현배]   \n",
       "\n",
       "              staff                                               plot topic  \\\n",
       "31  [유호진, 최지영, 서수민]  사랑하고, 이야기하고, 먹고 사는 것을 치열하게 고민하는 이 시대의 20대 청춘 소란극.    -1   \n",
       "\n",
       "   origin  \n",
       "31     -1  "
      ]
     },
     "execution_count": 273,
     "metadata": {},
     "output_type": "execute_result"
    }
   ],
   "source": [
    "movie_df[31:32]"
   ]
  },
  {
   "cell_type": "markdown",
   "metadata": {},
   "source": [
    "* title: A field that is used as a search key in Wikipedia.\n",
    "* title_id: ID associated with titles\n",
    "* title_name: Drama title in plain Korean. Later I plan to use this as a key to scrape more data from other sources\n",
    "* tag: Tags associated with each title\n",
    "* genre: Genre associated with each title\n",
    "* summary_detail: The first paragraph in every title's wikipedia page. Later I plan to vectorize this in feature engineering\n",
    "* episode_nums: Number of episodes. Dose not include special/spin-off episodes\n",
    "* episode_duration: Duration of each episode in minutes\n",
    "* main_cast: All the casts in the drama. Later I plan to divied this into main and sub casts \n",
    "* staff: All the staff (including directors, writers, or artists) associated with each title\n",
    "* plot: Plot of the drama\n",
    "* topic: Main topic of the drama\n",
    "* origin: Origin of the drama\n",
    "</br>\n",
    "</br>\n",
    "Disclaimer: This is the result of my first iteration. I admit the dataset is far from being perfect. I will continue to update the dataset to ensure quality and robustness. All the missing data is represented as -1. "
   ]
  },
  {
   "cell_type": "markdown",
   "metadata": {},
   "source": [
    "## How clean or good is it?\n",
    "Let's look at how much of the data is not null. "
   ]
  },
  {
   "cell_type": "code",
   "execution_count": 30,
   "metadata": {},
   "outputs": [],
   "source": [
    "colum_list = movie_df.columns.tolist()"
   ]
  },
  {
   "cell_type": "code",
   "execution_count": 34,
   "metadata": {},
   "outputs": [
    {
     "name": "stdout",
     "output_type": "stream",
     "text": [
      "title 1.0\n",
      "title_id 1.0\n",
      "tag 0.9525065963060686\n",
      "genre 0.9920844327176781\n",
      "summary_detail 0.9182058047493403\n",
      "episode_nums 0.9155672823218998\n",
      "episode_duration 0.6147757255936676\n",
      "title_name 0.9102902374670184\n",
      "main_cast 0.920844327176781\n",
      "staff 0.316622691292876\n",
      "plot 0.3720316622691293\n",
      "topic 0.002638522427440633\n",
      "origin 0.002638522427440633\n"
     ]
    }
   ],
   "source": [
    "for col in column_list:\n",
    "    values = movie_df[col].tolist()\n",
    "    null_count = values.count(-1)\n",
    "    not_null_ratio = float((len(values) - null_count)/len(values))\n",
    "    print(col, not_null_ratio)"
   ]
  },
  {
   "cell_type": "markdown",
   "metadata": {},
   "source": [
    "## Some fields are in pretty good shape, some are in dire straits.\n",
    "It looks like of the 379 drama titles, 90% of them have reliable source of tag, genre, summary, episodes, and main cast."
   ]
  },
  {
   "cell_type": "markdown",
   "metadata": {},
   "source": [
    "# Time to explore the dataset!"
   ]
  },
  {
   "cell_type": "markdown",
   "metadata": {},
   "source": [
    "### What is the most popular genre?"
   ]
  },
  {
   "cell_type": "code",
   "execution_count": 39,
   "metadata": {},
   "outputs": [],
   "source": [
    "file_name = 'data/genre_df.pkl'\n",
    "genre_df_pk = open(file_name, 'rb')\n",
    "genre_df = pickle.load(genre_df_pk)"
   ]
  },
  {
   "cell_type": "code",
   "execution_count": 44,
   "metadata": {},
   "outputs": [
    {
     "data": {
      "text/html": [
       "<div>\n",
       "<style>\n",
       "    .dataframe thead tr:only-child th {\n",
       "        text-align: right;\n",
       "    }\n",
       "\n",
       "    .dataframe thead th {\n",
       "        text-align: left;\n",
       "    }\n",
       "\n",
       "    .dataframe tbody tr th {\n",
       "        vertical-align: top;\n",
       "    }\n",
       "</style>\n",
       "<table border=\"1\" class=\"dataframe\">\n",
       "  <thead>\n",
       "    <tr style=\"text-align: right;\">\n",
       "      <th></th>\n",
       "      <th>genre</th>\n",
       "      <th>count</th>\n",
       "    </tr>\n",
       "  </thead>\n",
       "  <tbody>\n",
       "    <tr>\n",
       "      <th>26</th>\n",
       "      <td>드라마</td>\n",
       "      <td>259</td>\n",
       "    </tr>\n",
       "    <tr>\n",
       "      <th>0</th>\n",
       "      <td>로맨스</td>\n",
       "      <td>60</td>\n",
       "    </tr>\n",
       "    <tr>\n",
       "      <th>17</th>\n",
       "      <td>사극</td>\n",
       "      <td>29</td>\n",
       "    </tr>\n",
       "  </tbody>\n",
       "</table>\n",
       "</div>"
      ],
      "text/plain": [
       "   genre  count\n",
       "26   드라마    259\n",
       "0    로맨스     60\n",
       "17    사극     29"
      ]
     },
     "execution_count": 44,
     "metadata": {},
     "output_type": "execute_result"
    }
   ],
   "source": [
    "genre_df[:3]"
   ]
  },
  {
   "cell_type": "markdown",
   "metadata": {},
   "source": [
    "### Okay, if you do not know Korean, you have no idea that 'drama (드라마)' is the most popular genre. Let's translate this into English "
   ]
  },
  {
   "cell_type": "code",
   "execution_count": 52,
   "metadata": {},
   "outputs": [],
   "source": [
    "file_name = 'data/kor_eng_genre_dict.pkl'\n",
    "kor_eng_genre_dict_pkl = open(file_name, 'rb')\n",
    "kor_eng_mapp_dict = pickle.load(kor_eng_genre_dict_pkl)"
   ]
  },
  {
   "cell_type": "code",
   "execution_count": 53,
   "metadata": {},
   "outputs": [],
   "source": [
    "genre_df[\"genre_en\"] = genre_df[\"genre\"].apply(lambda x: kor_eng_mapp_dict.get(x, -1))"
   ]
  },
  {
   "cell_type": "code",
   "execution_count": 56,
   "metadata": {},
   "outputs": [
    {
     "data": {
      "text/html": [
       "<div>\n",
       "<style>\n",
       "    .dataframe thead tr:only-child th {\n",
       "        text-align: right;\n",
       "    }\n",
       "\n",
       "    .dataframe thead th {\n",
       "        text-align: left;\n",
       "    }\n",
       "\n",
       "    .dataframe tbody tr th {\n",
       "        vertical-align: top;\n",
       "    }\n",
       "</style>\n",
       "<table border=\"1\" class=\"dataframe\">\n",
       "  <thead>\n",
       "    <tr style=\"text-align: right;\">\n",
       "      <th></th>\n",
       "      <th>genre</th>\n",
       "      <th>count</th>\n",
       "      <th>genre_en</th>\n",
       "    </tr>\n",
       "  </thead>\n",
       "  <tbody>\n",
       "    <tr>\n",
       "      <th>26</th>\n",
       "      <td>드라마</td>\n",
       "      <td>259</td>\n",
       "      <td>drama</td>\n",
       "    </tr>\n",
       "    <tr>\n",
       "      <th>0</th>\n",
       "      <td>로맨스</td>\n",
       "      <td>60</td>\n",
       "      <td>romance</td>\n",
       "    </tr>\n",
       "    <tr>\n",
       "      <th>17</th>\n",
       "      <td>사극</td>\n",
       "      <td>29</td>\n",
       "      <td>historical_3</td>\n",
       "    </tr>\n",
       "    <tr>\n",
       "      <th>11</th>\n",
       "      <td>코미디</td>\n",
       "      <td>28</td>\n",
       "      <td>comedy</td>\n",
       "    </tr>\n",
       "    <tr>\n",
       "      <th>10</th>\n",
       "      <td>범죄</td>\n",
       "      <td>23</td>\n",
       "      <td>crime</td>\n",
       "    </tr>\n",
       "    <tr>\n",
       "      <th>14</th>\n",
       "      <td>판타지</td>\n",
       "      <td>21</td>\n",
       "      <td>fantasy</td>\n",
       "    </tr>\n",
       "    <tr>\n",
       "      <th>18</th>\n",
       "      <td>의학</td>\n",
       "      <td>16</td>\n",
       "      <td>medical_2</td>\n",
       "    </tr>\n",
       "    <tr>\n",
       "      <th>15</th>\n",
       "      <td>스릴러</td>\n",
       "      <td>15</td>\n",
       "      <td>thriller</td>\n",
       "    </tr>\n",
       "    <tr>\n",
       "      <th>30</th>\n",
       "      <td>액션</td>\n",
       "      <td>13</td>\n",
       "      <td>action</td>\n",
       "    </tr>\n",
       "    <tr>\n",
       "      <th>16</th>\n",
       "      <td>멜로</td>\n",
       "      <td>12</td>\n",
       "      <td>mellow</td>\n",
       "    </tr>\n",
       "  </tbody>\n",
       "</table>\n",
       "</div>"
      ],
      "text/plain": [
       "   genre  count      genre_en\n",
       "26   드라마    259         drama\n",
       "0    로맨스     60       romance\n",
       "17    사극     29  historical_3\n",
       "11   코미디     28        comedy\n",
       "10    범죄     23         crime\n",
       "14   판타지     21       fantasy\n",
       "18    의학     16     medical_2\n",
       "15   스릴러     15      thriller\n",
       "30    액션     13        action\n",
       "16    멜로     12        mellow"
      ]
     },
     "execution_count": 56,
     "metadata": {},
     "output_type": "execute_result"
    }
   ],
   "source": [
    "genre_df[:10]"
   ]
  },
  {
   "cell_type": "markdown",
   "metadata": {},
   "source": [
    "### Make more sense?\n",
    "The suffix (as in *medical**_2***) is because I have not merged similar genres yet. Let's see which genres occure in presence of one another the most."
   ]
  },
  {
   "cell_type": "markdown",
   "metadata": {},
   "source": [
    "## Pairwise analysis of K-drama genres\n",
    "### Get drama genre information from each drama"
   ]
  },
  {
   "cell_type": "code",
   "execution_count": 145,
   "metadata": {},
   "outputs": [
    {
     "name": "stdout",
     "output_type": "stream",
     "text": [
      "(376, 13)\n",
      "(121, 13)\n"
     ]
    }
   ],
   "source": [
    "# We will only work with movies with two or more genre classifications\n",
    "movie_df_pairwise = movie_df.loc[movie_df['genre'] != -1]\n",
    "print(movie_df_pairwise.shape)\n",
    "movie_df_pairwise = movie_df_pairwise[movie_df_pairwise['genre'].map(len) > 1]\n",
    "print(movie_df_pairwise.shape)"
   ]
  },
  {
   "cell_type": "code",
   "execution_count": 148,
   "metadata": {},
   "outputs": [
    {
     "name": "stdout",
     "output_type": "stream",
     "text": [
      "121\n"
     ]
    }
   ],
   "source": [
    "drama_genre_dict = movie_df_pairwise[[\"title\",\"genre\"]].set_index(\"title\").T.to_dict(\"list\")\n",
    "print(len(drama_genre_dict.keys()))"
   ]
  },
  {
   "cell_type": "code",
   "execution_count": 154,
   "metadata": {},
   "outputs": [],
   "source": [
    "#all_genre"
   ]
  },
  {
   "cell_type": "code",
   "execution_count": 163,
   "metadata": {},
   "outputs": [],
   "source": [
    "all_genre = [f for s in movie_df_pairwise[\"genre\"].tolist() for f in s]\n",
    "all_genre = list(set(all_genre))\n",
    "\n",
    "genre_index_df = pd.DataFrame({'genre': pd.Series(all_genre).values, 'genre_index' : np.arange(len(all_genre))})\n",
    "genre_index_dict = genre_index_df.set_index('genre').T.to_dict('list')\n",
    "reverse_genre_index_dict = genre_index_df.set_index('genre_index').T.to_dict('list')\n",
    "reverse_genre_index_dict[-1] = 'None' # Add null dictionary"
   ]
  },
  {
   "cell_type": "code",
   "execution_count": 165,
   "metadata": {},
   "outputs": [],
   "source": [
    "drama_titles = movie_df_pairwise[\"title\"].tolist()\n",
    "drama_genre_index_dict = {}\n",
    "\n",
    "for drama in drama_titles:\n",
    "    genre = drama_genre_dict[drama]\n",
    "    genre = [k for j in genre for k in j]\n",
    "    genre_list = []\n",
    "    for item in genre:\n",
    "        g_index = genre_index_dict.get(item, [-1])\n",
    "        genre_list.extend(g_index)\n",
    "    drama_genre_index_dict[drama] = genre_list"
   ]
  },
  {
   "cell_type": "code",
   "execution_count": 166,
   "metadata": {},
   "outputs": [
    {
     "data": {
      "text/plain": [
       "121"
      ]
     },
     "execution_count": 166,
     "metadata": {},
     "output_type": "execute_result"
    }
   ],
   "source": [
    "len(drama_genre_index_dict.keys())"
   ]
  },
  {
   "cell_type": "code",
   "execution_count": 167,
   "metadata": {},
   "outputs": [
    {
     "name": "stdout",
     "output_type": "stream",
     "text": [
      "[['드라마', '로맨스', '사극', '팩션', '코미디']]\n",
      "[10, 13, 8, 28, 23]\n"
     ]
    }
   ],
   "source": [
    "# Test\n",
    "print(drama_genre_dict.get(\"성균관_스캔들\"))\n",
    "print(drama_genre_index_dict[\"성균관_스캔들\"])"
   ]
  },
  {
   "cell_type": "markdown",
   "metadata": {},
   "source": [
    "### Pair co-occuring genres and count the frequency"
   ]
  },
  {
   "cell_type": "code",
   "execution_count": 169,
   "metadata": {},
   "outputs": [],
   "source": [
    "def get_genre_pairs(genre_list):\n",
    "    pairs = []\n",
    "    pairs = list(itertools.combinations(genre_list,2))\n",
    "    return pairs"
   ]
  },
  {
   "cell_type": "code",
   "execution_count": 170,
   "metadata": {},
   "outputs": [],
   "source": [
    "possible_pairs = []\n",
    "for drama in drama_titles:\n",
    "    possible_pairs.extend(get_genre_pairs(drama_genre_index_dict[drama]))"
   ]
  },
  {
   "cell_type": "code",
   "execution_count": 171,
   "metadata": {},
   "outputs": [],
   "source": [
    "nr_ids = np.unique(possible_pairs)"
   ]
  },
  {
   "cell_type": "code",
   "execution_count": 178,
   "metadata": {},
   "outputs": [],
   "source": [
    "visGrid = np.zeros((len(nr_ids), len(nr_ids)))"
   ]
  },
  {
   "cell_type": "code",
   "execution_count": 181,
   "metadata": {},
   "outputs": [],
   "source": [
    "for p in possible_pairs:\n",
    "    visGrid[np.argwhere(nr_ids == p[0]), np.argwhere(nr_ids == p[1])]+=1\n",
    "    if p[1] != p[0]:\n",
    "        visGrid[np.argwhere(nr_ids == p[1]), np.argwhere(nr_ids == p[0])] += 1"
   ]
  },
  {
   "cell_type": "code",
   "execution_count": 182,
   "metadata": {},
   "outputs": [
    {
     "name": "stdout",
     "output_type": "stream",
     "text": [
      "(37, 37)\n",
      "38\n"
     ]
    }
   ],
   "source": [
    "print (visGrid.shape)\n",
    "print (len(reverse_genre_index_dict.keys()))"
   ]
  },
  {
   "cell_type": "code",
   "execution_count": 186,
   "metadata": {},
   "outputs": [],
   "source": [
    "new_eng_reverse_genre_index_dict = {}\n",
    "for i in list(reverse_genre_index_dict.keys()):\n",
    "    kor_ = reverse_genre_index_dict[i]\n",
    "    kor_ =  \"\".join(str(x) for x in kor_)\n",
    "    eng_ = kor_eng_mapp_dict.get(kor_, \"No Genre\")\n",
    "    new_eng_reverse_genre_index_dict[i] = eng_"
   ]
  },
  {
   "cell_type": "code",
   "execution_count": 203,
   "metadata": {},
   "outputs": [
    {
     "data": {
      "text/plain": [
       "<matplotlib.axes._subplots.AxesSubplot at 0x12292acc0>"
      ]
     },
     "execution_count": 203,
     "metadata": {},
     "output_type": "execute_result"
    },
    {
     "data": {
      "image/png": "[encoded data removed]",
      "text/plain": [
       "<matplotlib.figure.Figure at 0x1229395c0>"
      ]
     },
     "metadata": {},
     "output_type": "display_data"
    }
   ],
   "source": [
    "genre_lookup = []\n",
    "for i in range(len(nr_ids)):\n",
    "    genre_lookup.append(new_eng_reverse_genre_index_dict[nr_ids[i]])\n",
    "fig, ax = plt.subplots(figsize=(12,10)) \n",
    "sns.heatmap(visGrid, xticklabels=genre_lookup, yticklabels=genre_lookup)"
   ]
  },
  {
   "cell_type": "markdown",
   "metadata": {},
   "source": [
    "### No surprise here. Romance+drama is a popular combination\n",
    "In addition to romance drama, I can also observe comedy+romance, romance+fantasy, and drama+fantasy to be more popular above others"
   ]
  },
  {
   "cell_type": "markdown",
   "metadata": {},
   "source": [
    "## Most appearing actors/actresses"
   ]
  },
  {
   "cell_type": "code",
   "execution_count": 207,
   "metadata": {},
   "outputs": [],
   "source": [
    "file_name = 'data/cast_df.pkl'\n",
    "cast_df_pkl = open(file_name, 'rb')\n",
    "cast_df = pickle.load(cast_df_pkl)"
   ]
  },
  {
   "cell_type": "code",
   "execution_count": 238,
   "metadata": {},
   "outputs": [
    {
     "data": {
      "text/html": [
       "<div>\n",
       "<style>\n",
       "    .dataframe thead tr:only-child th {\n",
       "        text-align: right;\n",
       "    }\n",
       "\n",
       "    .dataframe thead th {\n",
       "        text-align: left;\n",
       "    }\n",
       "\n",
       "    .dataframe tbody tr th {\n",
       "        vertical-align: top;\n",
       "    }\n",
       "</style>\n",
       "<table border=\"1\" class=\"dataframe\">\n",
       "  <thead>\n",
       "    <tr style=\"text-align: right;\">\n",
       "      <th></th>\n",
       "      <th>cast</th>\n",
       "      <th>count</th>\n",
       "    </tr>\n",
       "  </thead>\n",
       "  <tbody>\n",
       "    <tr>\n",
       "      <th>650</th>\n",
       "      <td>주상욱</td>\n",
       "      <td>7</td>\n",
       "    </tr>\n",
       "    <tr>\n",
       "      <th>378</th>\n",
       "      <td>민호</td>\n",
       "      <td>7</td>\n",
       "    </tr>\n",
       "    <tr>\n",
       "      <th>293</th>\n",
       "      <td>김래원</td>\n",
       "      <td>7</td>\n",
       "    </tr>\n",
       "    <tr>\n",
       "      <th>462</th>\n",
       "      <td>이보영 (배우)</td>\n",
       "      <td>6</td>\n",
       "    </tr>\n",
       "    <tr>\n",
       "      <th>398</th>\n",
       "      <td>류승수</td>\n",
       "      <td>6</td>\n",
       "    </tr>\n",
       "  </tbody>\n",
       "</table>\n",
       "</div>"
      ],
      "text/plain": [
       "         cast  count\n",
       "650       주상욱      7\n",
       "378        민호      7\n",
       "293       김래원      7\n",
       "462  이보영 (배우)      6\n",
       "398       류승수      6"
      ]
     },
     "execution_count": 238,
     "metadata": {},
     "output_type": "execute_result"
    }
   ],
   "source": [
    "cast_df[:5]"
   ]
  },
  {
   "cell_type": "code",
   "execution_count": 232,
   "metadata": {},
   "outputs": [],
   "source": [
    "def in_movies(cast_name):\n",
    "    played_in = []\n",
    "    for title in movie_df[\"title\"].tolist():\n",
    "        main_actor = movie_df.loc[movie_df[\"title\"] == title][\"main_cast\"].tolist()\n",
    "        try:\n",
    "            main_cast = [f for j in main_actor for f in j]\n",
    "        except:\n",
    "            main_cast = [-1]\n",
    "        if cast_name in main_cast:\n",
    "            played_in.append(title)\n",
    "    return played_in"
   ]
  },
  {
   "cell_type": "markdown",
   "metadata": {},
   "source": [
    "Top appearing actors/actresses and list of dramas they played in."
   ]
  },
  {
   "cell_type": "code",
   "execution_count": 237,
   "metadata": {},
   "outputs": [
    {
     "name": "stdout",
     "output_type": "stream",
     "text": [
      "1 _ 주상욱\n",
      "특수사건_전담반_TEN_2\n",
      "자이언트_(드라마)\n",
      "굿_닥터_(2013년_드라마)\n",
      "판타스틱_(드라마)\n",
      "특수사건_전담반_TEN\n",
      "그저_바라보다가\n",
      "네_꿈을_펼쳐라\n",
      "\n",
      "2 _ 민호\n",
      "달려라_고등어\n",
      "도롱뇽도사와_그림자_조작단\n",
      "푸른_바다의_전설\n",
      "꽃보다_남자_(대한민국_드라마)\n",
      "두근두근_체인지\n",
      "황금의_제국\n",
      "화랑_(드라마)\n",
      "\n",
      "3 _ 김래원\n",
      "펀치_(드라마)\n",
      "내_사랑_팥쥐\n",
      "흑기사_(드라마)\n",
      "닥터스_(드라마)\n",
      "학교_2_(드라마)\n",
      "넌_어느_별에서_왔니\n",
      "옥탑방_고양이\n",
      "\n",
      "4 _ 이보영 (배우)\n",
      "적도의_남자\n",
      "너의_목소리가_들려\n",
      "서동요_(드라마)\n",
      "해후\n",
      "미스터_굿바이\n",
      "신의_선물_-_14일\n",
      "\n",
      "5 _ 류승수\n",
      "펀치_(드라마)\n",
      "시리우스_(드라마)\n",
      "황금의_제국\n",
      "아름다운_나의_신부\n",
      "마술학교\n",
      "추적자_THE_CHASER\n",
      "\n"
     ]
    }
   ],
   "source": [
    "top_n = 5\n",
    "top_n_df = cast_df[:top_n]\n",
    "for idx, cast in enumerate(top_n_df[\"cast\"].tolist()):\n",
    "    print(idx+1, '_', cast)\n",
    "    movies_in = in_movies(cast)\n",
    "    print(*movies_in, sep = '\\n')\n",
    "    print(\"\")"
   ]
  },
  {
   "cell_type": "markdown",
   "metadata": {},
   "source": [
    "## Most frequent tags"
   ]
  },
  {
   "cell_type": "code",
   "execution_count": 242,
   "metadata": {},
   "outputs": [],
   "source": [
    "file_name = 'data/tag_df.pkl'\n",
    "tag_df_pkl = open(file_name, 'rb')\n",
    "tag_df = pickle.load(tag_df_pkl)"
   ]
  },
  {
   "cell_type": "code",
   "execution_count": 245,
   "metadata": {},
   "outputs": [
    {
     "data": {
      "text/html": [
       "<div>\n",
       "<style>\n",
       "    .dataframe thead tr:only-child th {\n",
       "        text-align: right;\n",
       "    }\n",
       "\n",
       "    .dataframe thead th {\n",
       "        text-align: left;\n",
       "    }\n",
       "\n",
       "    .dataframe tbody tr th {\n",
       "        vertical-align: top;\n",
       "    }\n",
       "</style>\n",
       "<table border=\"1\" class=\"dataframe\">\n",
       "  <thead>\n",
       "    <tr style=\"text-align: right;\">\n",
       "      <th></th>\n",
       "      <th>tag</th>\n",
       "      <th>count</th>\n",
       "    </tr>\n",
       "  </thead>\n",
       "  <tbody>\n",
       "    <tr>\n",
       "      <th>51</th>\n",
       "      <td>월화</td>\n",
       "      <td>114</td>\n",
       "    </tr>\n",
       "    <tr>\n",
       "      <th>150</th>\n",
       "      <td>로맨스</td>\n",
       "      <td>106</td>\n",
       "    </tr>\n",
       "    <tr>\n",
       "      <th>187</th>\n",
       "      <td>2010대</td>\n",
       "      <td>68</td>\n",
       "    </tr>\n",
       "  </tbody>\n",
       "</table>\n",
       "</div>"
      ],
      "text/plain": [
       "       tag  count\n",
       "51      월화    114\n",
       "150    로맨스    106\n",
       "187  2010대     68"
      ]
     },
     "execution_count": 245,
     "metadata": {},
     "output_type": "execute_result"
    }
   ],
   "source": [
    "tag_df[:3]"
   ]
  },
  {
   "cell_type": "code",
   "execution_count": 204,
   "metadata": {},
   "outputs": [],
   "source": [
    "top_n = 5\n",
    "top_n_df = cast_df[:top_n]\n",
    "for idx, cast in enumerate(top_n_df[\"cast\"].tolist()):\n",
    "    print(idx+1, '_', cast)\n",
    "    movies_in = in_movies(cast)\n",
    "    print(*movies_in, sep = '\\n')\n",
    "    print(\"\")"
   ]
  },
  {
   "cell_type": "code",
   "execution_count": 269,
   "metadata": {},
   "outputs": [],
   "source": [
    "def find_tags(tag):\n",
    "    tag_in = []\n",
    "    for title in movie_df[\"title\"].tolist():\n",
    "        tags = movie_df.loc[movie_df[\"title\"] == title][\"tag\"].tolist()\n",
    "        try:\n",
    "            tags = [f for j in tags for f in j]\n",
    "        except:\n",
    "            tags = [-1]\n",
    "        if tag in tags:\n",
    "            tag_in.append(title)\n",
    "    return tag_in"
   ]
  },
  {
   "cell_type": "code",
   "execution_count": 271,
   "metadata": {},
   "outputs": [
    {
     "name": "stdout",
     "output_type": "stream",
     "text": [
      "1 _ 월화\n",
      "전설의_고향_-_1999년\n",
      "펀치_(드라마)\n",
      "구름계단_(2006년_드라마)\n",
      "...\n",
      "\n",
      "2 _ 로맨스\n",
      "시카고_타자기_(드라마)\n",
      "구름계단_(2006년_드라마)\n",
      "성균관_스캔들\n",
      "...\n",
      "\n",
      "3 _ 2010대\n",
      "시카고_타자기_(드라마)\n",
      "애타는_로맨스\n",
      "상속자들\n",
      "...\n",
      "\n",
      "4 _ 수목\n",
      "아르곤_(2003년_드라마)\n",
      "역도요정_김복주\n",
      "추리의_여왕\n",
      "...\n",
      "\n",
      "5 _ 2017\n",
      "시카고_타자기_(드라마)\n",
      "반지의_여왕\n",
      "애타는_로맨스\n",
      "...\n",
      "\n"
     ]
    }
   ],
   "source": [
    "top_n = 5\n",
    "top_n_df = tag_df[:top_n]\n",
    "for idx, tag in enumerate(top_n_df[\"tag\"].tolist()):\n",
    "    print(idx+1, '_', tag)\n",
    "    movies_with_tag = find_tags(tag)\n",
    "    print(*movies_with_tag[:3], sep = '\\n')\n",
    "    print(\"...\")\n",
    "    print(\"\")"
   ]
  }
 ],
 "metadata": {
  "kernelspec": {
   "display_name": "Python 3",
   "language": "python",
   "name": "python3"
  },
  "language_info": {
   "codemirror_mode": {
    "name": "ipython",
    "version": 3
   },
   "file_extension": ".py",
   "mimetype": "text/x-python",
   "name": "python",
   "nbconvert_exporter": "python",
   "pygments_lexer": "ipython3",
   "version": "3.4.5"
  }
 },
 "nbformat": 4,
 "nbformat_minor": 2
}
