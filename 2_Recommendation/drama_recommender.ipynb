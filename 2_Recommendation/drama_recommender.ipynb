{
 "cells": [
  {
   "cell_type": "markdown",
   "metadata": {},
   "source": [
    "# Cosine Similarity on Genres"
   ]
  },
  {
   "cell_type": "code",
   "execution_count": 352,
   "metadata": {},
   "outputs": [],
   "source": [
    "import pickle\n",
    "import pandas as pd\n",
    "import numpy as np\n",
    "from collections import Counter\n",
    "from scipy import spatial\n",
    "import math\n",
    "import matplotlib.pyplot as plt\n",
    "%matplotlib inline"
   ]
  },
  {
   "cell_type": "markdown",
   "metadata": {},
   "source": [
    "# Step 0: Load dataset & pre-process genre\n",
    "I will merge similar genres together manually"
   ]
  },
  {
   "cell_type": "code",
   "execution_count": 3,
   "metadata": {},
   "outputs": [
    {
     "name": "stdout",
     "output_type": "stream",
     "text": [
      "Loaded k-drama meta dataset :  379  dramas\n"
     ]
    }
   ],
   "source": [
    "file_name = '../1_Data Exploration/data/movie_df.pkl'\n",
    "movie_pk = open(file_name, 'rb')\n",
    "movie_df = pickle.load(movie_pk)\n",
    "print(\"Loaded k-drama meta dataset : \", len(movie_df), \" dramas\")"
   ]
  },
  {
   "cell_type": "code",
   "execution_count": 39,
   "metadata": {},
   "outputs": [],
   "source": [
    "all_genres = movie_df[\"genre\"].tolist()\n",
    "all_genres_flat = []\n",
    "for entry in all_genres:\n",
    "    try:\n",
    "        for g in entry:\n",
    "            all_genres_flat.append(g)\n",
    "    except:\n",
    "        pass"
   ]
  },
  {
   "cell_type": "code",
   "execution_count": 40,
   "metadata": {},
   "outputs": [],
   "source": [
    "all_genres_unique = list(set(all_genres_flat))"
   ]
  },
  {
   "cell_type": "code",
   "execution_count": 200,
   "metadata": {},
   "outputs": [],
   "source": [
    "genre_index_df = pd.DataFrame({\"genre\": pd.Series(all_genres_unique).values, \"genre_index\": np.arange(len(all_genres_unique))})"
   ]
  },
  {
   "cell_type": "code",
   "execution_count": 206,
   "metadata": {},
   "outputs": [],
   "source": [
    "# Merge similar genres together\n",
    "genre_index_df.at[1,\"genre_index\"] = 6 #청소년 = 청춘\n",
    "genre_index_df.at[36,\"genre_index\"] = 10 #마법 = 판타지\n",
    "genre_index_df.at[0,\"genre_index\"] = 10 #팩션 = 판타지\n",
    "genre_index_df.at[7,\"genre_index\"] = 10 #퓨전 = 판타지\n",
    "genre_index_df.at[0,\"genre_index\"] = 10 # 팩션 = 판타지\n",
    "genre_index_df.at[13,\"genre_index\"] = 16 #범죄 = 스릴러\n",
    "genre_index_df.at[19,\"genre_index\"] = 25 #추리 = 미스터리\n",
    "genre_index_df.at[9,\"genre_index\"] = 22 #시츄에이션 = 단막극\n",
    "genre_index_df.at[29,\"genre_index\"] = 14 #멜로 = 로맨스\n",
    "genre_index_df.at[21,\"genre_index\"] = 5 #생존 = 재난\n",
    "genre_index_df.at[28,\"genre_index\"] = 27 #격정 = 드라마"
   ]
  },
  {
   "cell_type": "code",
   "execution_count": 560,
   "metadata": {},
   "outputs": [],
   "source": [
    "#genre_index_df"
   ]
  },
  {
   "cell_type": "code",
   "execution_count": 104,
   "metadata": {},
   "outputs": [],
   "source": [
    "genre_index_dict = genre_index_df.set_index(\"genre\").T.to_dict(\"list\")\n",
    "rv_genre_index_dict = dict(zip(genre_index_df.genre_index,genre_index_df.genre))"
   ]
  },
  {
   "cell_type": "markdown",
   "metadata": {},
   "source": [
    "## Check if merging have reduced low-frequency genres"
   ]
  },
  {
   "cell_type": "code",
   "execution_count": 46,
   "metadata": {},
   "outputs": [],
   "source": [
    "movie_genre = movie_df[[\"title\",\"title_id\",\"genre\"]]"
   ]
  },
  {
   "cell_type": "code",
   "execution_count": 61,
   "metadata": {},
   "outputs": [],
   "source": [
    "# Drama ID to genre dict\n",
    "dramaID_genre_dict = movie_genre[[\"title_id\", \"genre\"]]\n",
    "dramaID_genre_dict = dict(zip(dramaID_genre_dict.title_id,movie_genre.genre))\n",
    "\n",
    "# Drama to drama id dict\n",
    "drama_dramaID_dict = dict(zip(movie_genre.title, movie_genre.title_id))\n",
    "\n",
    "# Reverse drama id to drama dict\n",
    "rv_drama_dramaID_dict = dict(zip(movie_genre.title_id, movie_genre.title))"
   ]
  },
  {
   "cell_type": "code",
   "execution_count": 62,
   "metadata": {},
   "outputs": [],
   "source": [
    "title_list = movie_genre.title.tolist()"
   ]
  },
  {
   "cell_type": "code",
   "execution_count": 208,
   "metadata": {},
   "outputs": [],
   "source": [
    "flat_genre_sum = []\n",
    "for title in title_list:\n",
    "    genre_list = dramaID_genre_dict.get(drama_dramaID_dict.get(title))\n",
    "    try:\n",
    "        for genre in genre_list:\n",
    "            genre_id = genre_index_dict.get(genre, [37])\n",
    "    except:\n",
    "        genre_id = [37]\n",
    "    flat_genre_sum.extend(genre_id)\n",
    "\n",
    "genre_count = Counter(flat_genre_sum)\n",
    "genre_count_df = pd.DataFrame.from_dict(genre_count, orient = 'index').reset_index().rename(columns = {\"index\": \"genre_id\", 0: \"count\"}).sort_values(by =[\"count\"], ascending = False)"
   ]
  },
  {
   "cell_type": "code",
   "execution_count": 211,
   "metadata": {},
   "outputs": [
    {
     "data": {
      "image/png": "[encoded data removed]",
      "text/plain": [
       "<matplotlib.figure.Figure at 0x11cf22b70>"
      ]
     },
     "metadata": {},
     "output_type": "display_data"
    }
   ],
   "source": [
    "data = genre_count_df[[\"genre_id\", \"count\"]].set_index(\"genre_id\")\n",
    "ax = data.plot(kind = \"bar\", title = \"Most common genres in K-drams\", figsize = (10,7))\n",
    "plt.xlabel(\"Genre\")\n",
    "plt.ylabel(\"Drama counts\")\n",
    "plt.show()"
   ]
  },
  {
   "cell_type": "markdown",
   "metadata": {},
   "source": [
    "## Looks good enough, even though I have heavy concentration of Drama genre"
   ]
  },
  {
   "cell_type": "code",
   "execution_count": 332,
   "metadata": {},
   "outputs": [],
   "source": [
    "dramaID_genreID_dict = {}\n",
    "for title in title_list:\n",
    "    genre_list = dramaID_genre_dict.get(drama_dramaID_dict.get(title))\n",
    "    try:\n",
    "        genre_tmp = []\n",
    "        for genre in genre_list:\n",
    "            genre_id = genre_index_dict.get(genre, 37)\n",
    "            genre_tmp.extend(genre_id)\n",
    "    except:\n",
    "        genre_tmp = [37]\n",
    "    genre_id = list(set(genre_tmp))\n",
    "    dramaID_genreID_dict[drama_dramaID_dict.get(title)] = genre_id"
   ]
  },
  {
   "cell_type": "markdown",
   "metadata": {},
   "source": [
    "# Step 1: Pre-embed drama genre"
   ]
  },
  {
   "cell_type": "code",
   "execution_count": 333,
   "metadata": {},
   "outputs": [],
   "source": [
    "genre_vector = []\n",
    "for title in title_list:\n",
    "    genre_id = dramaID_genreID_dict.get(drama_dramaID_dict.get(title))\n",
    "    genre_vector.append(genre_id)"
   ]
  },
  {
   "cell_type": "code",
   "execution_count": 335,
   "metadata": {},
   "outputs": [],
   "source": [
    "title_id = []\n",
    "for title in title_list:\n",
    "    id_ = drama_dramaID_dict.get(title)\n",
    "    title_id.append(id_)"
   ]
  },
  {
   "cell_type": "code",
   "execution_count": 336,
   "metadata": {},
   "outputs": [],
   "source": [
    "genre_vector_df = pd.DataFrame({\"title_id\": pd.Series(title_id).values, \"genre_id\": pd.Series(genre_vector).values}).set_index(\"title_id\").reset_index()"
   ]
  },
  {
   "cell_type": "markdown",
   "metadata": {},
   "source": [
    "## Encode one hot vector of genres"
   ]
  },
  {
   "cell_type": "code",
   "execution_count": 394,
   "metadata": {},
   "outputs": [],
   "source": [
    "vector = np.zeros([len(genre_vector),len(genre_index_df)])\n",
    "nr_ids = np.arange(len(genre_index_df))\n",
    "\n",
    "for idx, p in enumerate(genre_vector):\n",
    "    for i in p:\n",
    "        vector[idx,i]+=1"
   ]
  },
  {
   "cell_type": "markdown",
   "metadata": {},
   "source": [
    "## Calculate cosine similarity for genre"
   ]
  },
  {
   "cell_type": "code",
   "execution_count": 395,
   "metadata": {},
   "outputs": [],
   "source": [
    "def cosine_similarity(v1,v2):\n",
    "    \"compute cosine similarity of v1 to v2: (v1 dot v2)/{||v1||*||v2||)\"\n",
    "    sumxx, sumxy, sumyy = 0, 0, 0\n",
    "    for i in range(len(v1)):\n",
    "        x = v1[i]; y = v2[i]\n",
    "        sumxx += x*x\n",
    "        sumyy += y*y\n",
    "        sumxy += x*y\n",
    "    return sumxy/math.sqrt(sumxx*sumyy)"
   ]
  },
  {
   "cell_type": "code",
   "execution_count": 398,
   "metadata": {},
   "outputs": [],
   "source": [
    "simil_matrix = np.zeros([len(vector),len(vector)])\n",
    "for i in range(len(vector)):\n",
    "    for j in range(len(vector)):\n",
    "        sim_score = cosine_similarity(vector[i],vector[j])\n",
    "        simil_matrix[i,j] = sim_score"
   ]
  },
  {
   "cell_type": "markdown",
   "metadata": {},
   "source": [
    "# Step 2: Retrieve top N dramas with similar genres"
   ]
  },
  {
   "cell_type": "code",
   "execution_count": 528,
   "metadata": {},
   "outputs": [],
   "source": [
    "topN = 3\n",
    "\n",
    "def topN_similar_genre(topN):\n",
    "    \"\"\"\n",
    "    - Returns dictionary with similarity scores\n",
    "    - Omit self\n",
    "    \"\"\"\n",
    "    topN_sim_dict = {}\n",
    "    for i in range(len(simil_matrix)):\n",
    "        top_i = simil_matrix[i].argsort()[-(topN+1):][::-1] #Take extra so I can omit self\n",
    "        top_index = []\n",
    "        for j in range(topN+1):\n",
    "            top_index.append(top_i[j])\n",
    "        try:\n",
    "            top_index.remove(i)\n",
    "        except:\n",
    "            pass\n",
    "        top_index = top_index[:topN]\n",
    "        topN_drama = []\n",
    "        for idx in top_index:\n",
    "            title = title_list[idx]\n",
    "            score = simil_matrix[i][idx]\n",
    "            topN_drama.append((title,score))\n",
    "        topN_sim_dict[title_list[i]] = topN_drama\n",
    "    return topN_sim_dict      "
   ]
  },
  {
   "cell_type": "code",
   "execution_count": 529,
   "metadata": {},
   "outputs": [],
   "source": [
    "topN_drama_dict = topN_similar_genre(topN)"
   ]
  },
  {
   "cell_type": "code",
   "execution_count": 510,
   "metadata": {},
   "outputs": [
    {
     "data": {
      "text/plain": [
       "[('아테나:_전쟁의_여신', 1.0), ('아이리스_(드라마)', 1.0), ('닥터_이방인', 0.35355339059327373)]"
      ]
     },
     "execution_count": 510,
     "metadata": {},
     "output_type": "execute_result"
    }
   ],
   "source": [
    "# Test\n",
    "topN_drama_dict['아이리스_2']"
   ]
  },
  {
   "cell_type": "code",
   "execution_count": 530,
   "metadata": {},
   "outputs": [],
   "source": [
    "topN_drama_df = pd.DataFrame.from_dict(topN_drama_dict, orient = 'index').reset_index()"
   ]
  },
  {
   "cell_type": "code",
   "execution_count": 532,
   "metadata": {},
   "outputs": [
    {
     "data": {
      "text/html": [
       "<div>\n",
       "<style>\n",
       "    .dataframe thead tr:only-child th {\n",
       "        text-align: right;\n",
       "    }\n",
       "\n",
       "    .dataframe thead th {\n",
       "        text-align: left;\n",
       "    }\n",
       "\n",
       "    .dataframe tbody tr th {\n",
       "        vertical-align: top;\n",
       "    }\n",
       "</style>\n",
       "<table border=\"1\" class=\"dataframe\">\n",
       "  <thead>\n",
       "    <tr style=\"text-align: right;\">\n",
       "      <th></th>\n",
       "      <th>index</th>\n",
       "      <th>0</th>\n",
       "      <th>1</th>\n",
       "      <th>2</th>\n",
       "    </tr>\n",
       "  </thead>\n",
       "  <tbody>\n",
       "    <tr>\n",
       "      <th>369</th>\n",
       "      <td>라이어_게임_(2014년_드라마)</td>\n",
       "      <td>(귀신_보는_형사_처용, 1.0)</td>\n",
       "      <td>(미세스_캅, 1.0)</td>\n",
       "      <td>(귀신_보는_형사_처용_2, 1.0)</td>\n",
       "    </tr>\n",
       "    <tr>\n",
       "      <th>370</th>\n",
       "      <td>세가지색_판타지</td>\n",
       "      <td>(즐거운_나의_집_(드라마), 1.0)</td>\n",
       "      <td>(그라운드_제로_(드라마), 1.0)</td>\n",
       "      <td>(쇼핑왕_루이, 1.0)</td>\n",
       "    </tr>\n",
       "    <tr>\n",
       "      <th>371</th>\n",
       "      <td>공주의_남자</td>\n",
       "      <td>(삼총사_(2014년_대한민국_드라마), 0.816496580928)</td>\n",
       "      <td>(엽기적인_그녀_(2017년_드라마), 0.816496580928)</td>\n",
       "      <td>(각시탈_(드라마), 0.816496580928)</td>\n",
       "    </tr>\n",
       "    <tr>\n",
       "      <th>372</th>\n",
       "      <td>굿_와이프_(2016년_드라마)</td>\n",
       "      <td>(즐거운_나의_집_(드라마), 1.0)</td>\n",
       "      <td>(그라운드_제로_(드라마), 1.0)</td>\n",
       "      <td>(쇼핑왕_루이, 1.0)</td>\n",
       "    </tr>\n",
       "    <tr>\n",
       "      <th>373</th>\n",
       "      <td>힘쎈여자_도봉순</td>\n",
       "      <td>(푸른_바다의_전설, 0.894427191)</td>\n",
       "      <td>(시크릿_가든_(드라마), 0.894427191)</td>\n",
       "      <td>(도깨비_(드라마), 0.894427191)</td>\n",
       "    </tr>\n",
       "    <tr>\n",
       "      <th>374</th>\n",
       "      <td>스파크_(드라마)</td>\n",
       "      <td>(시크릿_메세지, 1.0)</td>\n",
       "      <td>(전설의_고향_-_1996년, 0.707106781187)</td>\n",
       "      <td>(베이비시터_(드라마), 0.707106781187)</td>\n",
       "    </tr>\n",
       "    <tr>\n",
       "      <th>375</th>\n",
       "      <td>W_(드라마)</td>\n",
       "      <td>(즐거운_나의_집_(드라마), 1.0)</td>\n",
       "      <td>(그라운드_제로_(드라마), 1.0)</td>\n",
       "      <td>(쇼핑왕_루이, 1.0)</td>\n",
       "    </tr>\n",
       "    <tr>\n",
       "      <th>376</th>\n",
       "      <td>닥터스_(드라마)</td>\n",
       "      <td>(닥터_이방인, 0.866025403784)</td>\n",
       "      <td>(뷰티풀_마인드_(드라마), 0.816496580928)</td>\n",
       "      <td>(제3병원, 0.816496580928)</td>\n",
       "    </tr>\n",
       "    <tr>\n",
       "      <th>377</th>\n",
       "      <td>뿌리깊은_나무_(2011년_드라마)</td>\n",
       "      <td>(옥중화, 1.0)</td>\n",
       "      <td>(구암_허준_(드라마), 1.0)</td>\n",
       "      <td>(야인시대, 1.0)</td>\n",
       "    </tr>\n",
       "    <tr>\n",
       "      <th>378</th>\n",
       "      <td>다시_만난_세계_(드라마)</td>\n",
       "      <td>(시카고_타자기_(드라마), 1.0)</td>\n",
       "      <td>(당신이_잠든_사이에_(드라마), 1.0)</td>\n",
       "      <td>(내일_그대와, 1.0)</td>\n",
       "    </tr>\n",
       "  </tbody>\n",
       "</table>\n",
       "</div>"
      ],
      "text/plain": [
       "                   index                                       0  \\\n",
       "369   라이어_게임_(2014년_드라마)                      (귀신_보는_형사_처용, 1.0)   \n",
       "370             세가지색_판타지                   (즐거운_나의_집_(드라마), 1.0)   \n",
       "371               공주의_남자  (삼총사_(2014년_대한민국_드라마), 0.816496580928)   \n",
       "372    굿_와이프_(2016년_드라마)                   (즐거운_나의_집_(드라마), 1.0)   \n",
       "373             힘쎈여자_도봉순                (푸른_바다의_전설, 0.894427191)   \n",
       "374            스파크_(드라마)                          (시크릿_메세지, 1.0)   \n",
       "375              W_(드라마)                   (즐거운_나의_집_(드라마), 1.0)   \n",
       "376            닥터스_(드라마)                (닥터_이방인, 0.866025403784)   \n",
       "377  뿌리깊은_나무_(2011년_드라마)                              (옥중화, 1.0)   \n",
       "378       다시_만난_세계_(드라마)                    (시카고_타자기_(드라마), 1.0)   \n",
       "\n",
       "                                         1                              2  \n",
       "369                           (미세스_캅, 1.0)           (귀신_보는_형사_처용_2, 1.0)  \n",
       "370                   (그라운드_제로_(드라마), 1.0)                  (쇼핑왕_루이, 1.0)  \n",
       "371  (엽기적인_그녀_(2017년_드라마), 0.816496580928)    (각시탈_(드라마), 0.816496580928)  \n",
       "372                   (그라운드_제로_(드라마), 1.0)                  (쇼핑왕_루이, 1.0)  \n",
       "373            (시크릿_가든_(드라마), 0.894427191)       (도깨비_(드라마), 0.894427191)  \n",
       "374       (전설의_고향_-_1996년, 0.707106781187)  (베이비시터_(드라마), 0.707106781187)  \n",
       "375                   (그라운드_제로_(드라마), 1.0)                  (쇼핑왕_루이, 1.0)  \n",
       "376        (뷰티풀_마인드_(드라마), 0.816496580928)         (제3병원, 0.816496580928)  \n",
       "377                     (구암_허준_(드라마), 1.0)                    (야인시대, 1.0)  \n",
       "378                (당신이_잠든_사이에_(드라마), 1.0)                  (내일_그대와, 1.0)  "
      ]
     },
     "execution_count": 532,
     "metadata": {},
     "output_type": "execute_result"
    }
   ],
   "source": [
    "topN_drama_df[-10:]"
   ]
  }
 ],
 "metadata": {
  "kernelspec": {
   "display_name": "Python 3",
   "language": "python",
   "name": "python3"
  },
  "language_info": {
   "codemirror_mode": {
    "name": "ipython",
    "version": 3
   },
   "file_extension": ".py",
   "mimetype": "text/x-python",
   "name": "python",
   "nbconvert_exporter": "python",
   "pygments_lexer": "ipython3",
   "version": "3.4.5"
  }
 },
 "nbformat": 4,
 "nbformat_minor": 2
}
