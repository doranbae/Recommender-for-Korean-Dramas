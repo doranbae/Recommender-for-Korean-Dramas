{
 "cells": [
  {
   "cell_type": "markdown",
   "metadata": {},
   "source": [
    "# Prepare data\n",
    "### Part 1: Scrape data from wiki\n",
    "I scraped Korean drama metadata using using Mediwiki API\n",
    "### Part 2: Cleanse data using NLP\n",
    "Raw text data needs to be cleansed for the future use\n",
    "### Part 3: Save\n",
    "\n",
    "##### References:\n",
    "* https://www.crummy.com/software/BeautifulSoup/bs4/doc/\n",
    "* https://scraperwiki.com/2011/12/how-to-scrape-and-parse-wikipedia/"
   ]
  },
  {
   "cell_type": "markdown",
   "metadata": {},
   "source": [
    "## Step 0: Initialize"
   ]
  },
  {
   "cell_type": "code",
   "execution_count": 35,
   "metadata": {
    "collapsed": true
   },
   "outputs": [],
   "source": [
    "import json\n",
    "import os\n",
    "import glob\n",
    "from urllib.request import urlopen\n",
    "import time\n",
    "import json\n",
    "from urllib.request import urlopen\n",
    "from urllib.parse import quote\n",
    "from urllib.parse import urlsplit, parse_qs\n",
    "import lxml.etree\n",
    "import urllib\n",
    "import urllib.parse\n",
    "import re\n",
    "import elasticsearch\n",
    "import csv\n",
    "import pandas as pd"
   ]
  },
  {
   "cell_type": "markdown",
   "metadata": {},
   "source": [
    "# Step 1: Scrape table on Wikipedia"
   ]
  },
  {
   "cell_type": "code",
   "execution_count": 87,
   "metadata": {
    "collapsed": true
   },
   "outputs": [],
   "source": [
    "# movie_list = ['가을동화','별에서_온_그대','그들이_사는_세상','하얀거탑_(2007년_드라마)','찬란한_유산','아내의_유혹', '도깨비_(드라마)','굿_와이프_(2016년_드라마)','비밀의_숲','아내의_자격', \n",
    "#               '프로듀사','상속자들','연애의_발견','최고의_한방','푸른_바다의_전설','베이비시터_(드라마)','밀회','커피프린스_1호점','로열_패밀리_(드라마)','연애시대_(드라마)',\n",
    "#              '응답하라_1988','풍문으로_들었소','자이언트_(드라마)','미생_(드라마)','아이가_다섯','38사기동대','시그널_(드라마)','최고의_사랑','온에어_(드라마)','마이_프린세스','넝쿨째_굴러온_당신',\n",
    "#              '아르곤_(2003년_드라마)','옥탑방_고양이','품위있는_그녀','구해줘','뿌리깊은_나무_(2011년_드라마)','펀치_(드라마)','혼술남녀','치즈인더트랩_(드라마)',\n",
    "#              '청춘시대_(드라마)','운명처럼_널_사랑해','끝에서_두번째_사랑','판타스틱_(드라마)','구르미_그린_달빛_(드라마)','9회말_2아웃',\n",
    "#              '허준_(드라마)','기억_(드라마)','쌈_마이웨이','수상한_파트너','힘쎈여자_도봉순','태양의_여자','시크릿_가든_(드라마)','내_남자의_여자','황금의_제국',\n",
    "#              '지붕뚫고_하이킥!','신의_저울','그_겨울,_바람이_분다','아버지가_이상해','학교_2017','역적_:_백성을_훔친_도적',\n",
    "#              '사임당,_빛의_일기','대장금','이웃집_웬수','고백부부','명불허전_(드라마)','당신이_잠든_사이에_(드라마)','마의','태양의_후예','내조의_여왕','반짝반짝_빛나는','마녀보감',\n",
    "#              '결혼계약','골든타임_(드라마)','직장의_신','너의_목소리가_들려','욱씨남정기','해를_품은_달_(드라마)','바람의_화원_(드라마)','질투의_화신','추노','올인','또!_오해영','신사의_품격',\n",
    "#              '낭만닥터_김사부','애인있어요','가족끼리_왜_이래','닥터스_(드라마)','옥중화','오_나의_귀신님','W_(드라마)']\n",
    "\n",
    "movie_list = ['가을동화','별에서_온_그대','그들이_사는_세상','하얀거탑_(2007년_드라마)','찬란한_유산','아내의_유혹', '도깨비_(드라마)','굿_와이프_(2016년_드라마)','비밀의_숲','아내의_자격', \n",
    "              '프로듀사','상속자들','연애의_발견','최고의_한방','푸른_바다의_전설','베이비시터_(드라마)','밀회','커피프린스_1호점','로열_패밀리_(드라마)','연애시대_(드라마)']"
   ]
  },
  {
   "cell_type": "code",
   "execution_count": 37,
   "metadata": {},
   "outputs": [],
   "source": [
    "#df = pd.DataFrame(title_list, columns = ['movie_title'])"
   ]
  },
  {
   "cell_type": "code",
   "execution_count": 38,
   "metadata": {
    "collapsed": true
   },
   "outputs": [],
   "source": [
    "#df.to_csv('../data/movie_titles.tsv', index = False, encoding = 'utf-8')"
   ]
  },
  {
   "cell_type": "code",
   "execution_count": 39,
   "metadata": {
    "collapsed": true
   },
   "outputs": [],
   "source": [
    "# data_df = pd.read_csv(path, sep = '/t')\n",
    "# title_list = data_df[\"movie_title\"].tolist()"
   ]
  },
  {
   "cell_type": "code",
   "execution_count": 40,
   "metadata": {
    "collapsed": true
   },
   "outputs": [],
   "source": [
    "infobox_fields = ['방송명','원제','시청등급','장르','방송 시간','방송 분량','방송 기간','방송 횟수','방송 국가','방송 채널','기획','제작','총감독','감독','연출','조연출',\n",
    "          '원작','각본','총괄프로듀서','프로듀서','출연자','분장','미용','의상디자인','의상','음성','자막','데이터 방송','여는 곡','닫는 곡','촬영감독','촬영보',\n",
    "         '조명감독','조명1st','조명팀','미술감독','미술개발','미술행정','극본','대본','구성','출연자','제작사','자막','주요 촬영지']\n",
    "\n",
    "text_fields = [\"== 줄거리 ==\",\"== 등장 인물 ==\",\"== OST ==\",\"== 수상 목록 ==\",\"== 역사적 사실과 오류 ==\",\"== 이모저모 ==\",\"== 시청률 ==\",\"== 사운드트랙 ==\",\"== 표절 논란 ==\",\"== 결방 사유 및 연장 ==\",\"== 수상 경력 ==\",\"== 동시간대 드라마 ==\",\n",
    "              \"== 편성 변경 ==\",\"== 경쟁작 ==\",\"== 한류 붐 ==\",\"== 같이 보기 ==\",\"== 오리지널 사운드트랙 ==\",\"== 수상 경력 및 후보 ==\",\"== 관련 도서 ==\",\"== 제작진 ==\",\"== 연장 ==\",\"== 해외 방영 ==\",\"== 특이 사항 ==\",\"== 음악 ==\",\n",
    "               \"== 촬영 장소 ==\",\"== 기획의도 ==\",\"== 회차별 줄거리 ==\",\"== 드라마 속 드라마 ==\",\"== 관련 서적 ==\",\"== 원작 ==\",\"== 주제 ==\",\"== 제작 ==\",\"== 인기 ==\",\"== 수상 경력 및 후보 ==\"]"
   ]
  },
  {
   "cell_type": "code",
   "execution_count": 41,
   "metadata": {
    "collapsed": true
   },
   "outputs": [],
   "source": [
    "def get_raw_text(title):\n",
    "    params = {\"format\":\"xml\", \"action\":\"query\", \"prop\":\"revisions\", \"rvprop\":\"timestamp|user|comment|content\"}\n",
    "    params[\"titles\"] = \"API|%s\" % urllib.parse.quote(title.encode(\"utf8\"))\n",
    "    qs = \"&\".join(\"%s=%s\" % (k, v)  for k, v in params.items()) #query string\n",
    "    url = \"http://ko.wikipedia.org/w/api.php?%s\" % qs\n",
    "    tree = lxml.etree.parse(urlopen(url))\n",
    "    revs = tree.xpath('//rev')\n",
    "    raw_text = revs[-1].text\n",
    "    return raw_text"
   ]
  },
  {
   "cell_type": "code",
   "execution_count": 103,
   "metadata": {
    "collapsed": true
   },
   "outputs": [],
   "source": [
    "def extract_infobox(raw_text, infobox_fields):\n",
    "    \"\"\"\n",
    "    Using Wiki's unique format rules, extract infobox data\n",
    "    Returns infobox data in a dictionary\n",
    "    \"\"\"\n",
    "    infobox_start_idx = raw_text.find(\"{{텔레비전 \")\n",
    "    infobox_end_idx = raw_text.find(\"《\") #raw_text.find(\"《'''\")\n",
    "    infobox_text = raw_text[infobox_start_idx:infobox_end_idx]\n",
    "    infobox_field_pos = [infobox_text.find(field) for field in infobox_fields]\n",
    "    field_pos_pair = list(zip(infobox_field_pos,infobox_fields))\n",
    "    field_pos_pair = sorted(field_pos_pair, key=lambda tup: tup[0]) \n",
    "    \n",
    "    infobox_dic = {}\n",
    "    for idx, field in enumerate(field_pos_pair):\n",
    "        if field[0] <0:  # If there is no value, pass\n",
    "            pass\n",
    "        else: \n",
    "            field_name = field[1]\n",
    "            start_idx = field[0] + len(field_name) + len(\" = \")\n",
    "            if idx == len(field_pos_pair) - 1:\n",
    "                end_idx = len(infobox_text)\n",
    "            else: \n",
    "                end_idx = field_pos_pair[idx + 1][0]-1\n",
    "                \n",
    "            infobox_dic[field_name] = infobox_text[start_idx:end_idx].rstrip() \n",
    "    return infobox_dic"
   ]
  },
  {
   "cell_type": "code",
   "execution_count": 104,
   "metadata": {},
   "outputs": [],
   "source": [
    "raw_text = get_raw_text(\"푸른_바다의_전설\")\n",
    "info_dict = extract_infobox(raw_text,infobox_fields)"
   ]
  },
  {
   "cell_type": "code",
   "execution_count": 105,
   "metadata": {},
   "outputs": [
    {
     "data": {
      "text/plain": [
       "dict_keys(['음성', '방송명', '방송 채널', '각본', '방송 국가', '조연출', '연출', '자막', '총감독', '제작사', '원작', '방송 시간', '방송 분량', '장르', '방송 기간', '닫는 곡', '기획', '제작', '원제', '프로듀서', '방송 횟수', '시청등급', '데이터 방송', '감독', '출연자', '여는 곡'])"
      ]
     },
     "execution_count": 105,
     "metadata": {},
     "output_type": "execute_result"
    }
   ],
   "source": [
    "info_dict.keys()"
   ]
  },
  {
   "cell_type": "code",
   "execution_count": 106,
   "metadata": {},
   "outputs": [
    {
     "data": {
      "text/plain": [
       "'[[판타지]], [[로맨스]], [[코미디]], [[드라마]]'"
      ]
     },
     "execution_count": 106,
     "metadata": {},
     "output_type": "execute_result"
    }
   ],
   "source": [
    "info_dict['장르']"
   ]
  },
  {
   "cell_type": "code",
   "execution_count": null,
   "metadata": {
    "collapsed": true
   },
   "outputs": [],
   "source": []
  },
  {
   "cell_type": "code",
   "execution_count": null,
   "metadata": {
    "collapsed": true
   },
   "outputs": [],
   "source": []
  },
  {
   "cell_type": "code",
   "execution_count": null,
   "metadata": {
    "collapsed": true
   },
   "outputs": [],
   "source": []
  },
  {
   "cell_type": "code",
   "execution_count": null,
   "metadata": {
    "collapsed": true
   },
   "outputs": [],
   "source": []
  },
  {
   "cell_type": "code",
   "execution_count": 43,
   "metadata": {
    "collapsed": true
   },
   "outputs": [],
   "source": [
    "def remove_ref(input_string):\n",
    "    ref_pos = []\n",
    "    back_ref_pos = []\n",
    "    for idx, char in enumerate(input_string):\n",
    "        test_string_1 = input_string[idx:idx+5]\n",
    "        if test_string_1 == \"<ref>\":\n",
    "            ref_pos.append(idx)\n",
    "    for idx, char in enumerate(input_string):\n",
    "        test_string_2 = input_string[idx:idx+6]\n",
    "        if test_string_2 == \"</ref>\":\n",
    "            back_ref_pos.append(idx)\n",
    "            \n",
    "    ref_pair = list(zip(ref_pos,back_ref_pos))\n",
    "    remove_text = []\n",
    "    for pair in ref_pair:\n",
    "        target_text = input_string[pair[0]:pair[1]+6]\n",
    "        remove_text.append(target_text)\n",
    "    \n",
    "    clean_input_string = input_string\n",
    "    for text in remove_text:\n",
    "        clean_input_string = clean_input_string.replace(text, \"\")\n",
    "        \n",
    "    return clean_input_string    "
   ]
  },
  {
   "cell_type": "code",
   "execution_count": 44,
   "metadata": {
    "collapsed": true
   },
   "outputs": [],
   "source": [
    "def extract_summary(raw_text):\n",
    "    \"\"\"\n",
    "    Using Wiki's unique format rules, extract summary\n",
    "    Returns summary as string\n",
    "    \"\"\"\n",
    "    summary_start_idx = raw_text.find(\"《'''\")\n",
    "    summary_end_idx = raw_text.find(\"==\")\n",
    "    summary_text = raw_text[summary_start_idx:summary_end_idx].rstrip()\n",
    "    summary_text_clean = remove_ref(summary_text)\n",
    "    return summary_text_clean"
   ]
  },
  {
   "cell_type": "code",
   "execution_count": 45,
   "metadata": {
    "collapsed": true
   },
   "outputs": [],
   "source": [
    "def extract_tag(raw_text):\n",
    "    \"\"\"\n",
    "    Using Wiki's unique format rules, extract tags\n",
    "    Returns tags as list\n",
    "    \"\"\"\n",
    "    tag_start_idx = raw_text.find(\"[[분류:\")\n",
    "    tag_end_idx = len(raw_text)\n",
    "    tag_text = raw_text[tag_start_idx:tag_end_idx]\n",
    "    cat_pos = [pos for pos, char in enumerate(tag_text) if char == \":\"]\n",
    "    tags = []\n",
    "    for idx, pos in enumerate(cat_pos):\n",
    "        start_idx = pos+1\n",
    "        if idx == len(cat_pos)-1:\n",
    "            end_idx = len(tag_text)\n",
    "        else:\n",
    "            end_idx = cat_pos[idx + 1] - 7\n",
    "        tag = tag_text[start_idx:end_idx]\n",
    "        tags.append(tag)\n",
    "    return tags"
   ]
  },
  {
   "cell_type": "markdown",
   "metadata": {},
   "source": [
    "# Step 2: Clean up the data (In the text section)\n",
    "* parse\n",
    "* date format\n",
    "* other dictionaies & indecies\n",
    "* scrape plot\n",
    "* create English version"
   ]
  },
  {
   "cell_type": "markdown",
   "metadata": {},
   "source": [
    "## 등장 인물"
   ]
  },
  {
   "cell_type": "code",
   "execution_count": 46,
   "metadata": {
    "collapsed": true
   },
   "outputs": [],
   "source": [
    "#test_people = (wiki_metadata['별에서_온_그대']['등장 인물'])"
   ]
  },
  {
   "cell_type": "code",
   "execution_count": 47,
   "metadata": {
    "collapsed": true
   },
   "outputs": [],
   "source": [
    "def find_pos_string(input_string,find_string):\n",
    "    target_pos = []\n",
    "    for idx, char in enumerate(input_string):\n",
    "        test_string = input_string[idx:idx+3]\n",
    "        if test_string == find_string:\n",
    "            target_pos.append(idx)\n",
    "    return target_pos    "
   ]
  },
  {
   "cell_type": "code",
   "execution_count": 48,
   "metadata": {
    "collapsed": true
   },
   "outputs": [],
   "source": [
    "def cast_category(cast_raw_text):\n",
    "    \"\"\"\n",
    "    Using Wiki's unique format, extract cast category chunks.\n",
    "    Return dic with cast category as key, and its text(raw) as value.\n",
    "    \"\"\"\n",
    "    category_divider_idx = []\n",
    "    cast_category = []\n",
    "    cast_dic = {}\n",
    "    category_divider_pos = find_pos_string(cast_raw_text, \"===\")\n",
    "    for x,y in zip(category_divider_pos[0::2], category_divider_pos[1::2]):\n",
    "        idx = list((x,y))\n",
    "        category_divider_idx.append(idx)\n",
    "    for idx, pair in enumerate(category_divider_idx):\n",
    "        title_start_idx = pair[0]+4\n",
    "        title_end_idx = pair[1]-1\n",
    "        text_start_idx = pair[0]+14\n",
    "        if idx == len(category_divider_idx)-1:\n",
    "            text_end_idx = len(cast_raw_text)\n",
    "        else:\n",
    "            text_end_idx = category_divider_idx[idx+1][0]-2\n",
    "        \n",
    "        cast_dic[cast_raw_text[title_start_idx:title_end_idx]]= cast_name(cast_raw_text[text_start_idx:text_end_idx])  #cast_raw_text[text_start_idx:text_end_idx]\n",
    "    return cast_dic"
   ]
  },
  {
   "cell_type": "code",
   "execution_count": 49,
   "metadata": {
    "collapsed": true
   },
   "outputs": [],
   "source": [
    "#cast_dict = cast_category(test_people)\n",
    "#print(cast_dict['그 외 인물'])"
   ]
  },
  {
   "cell_type": "code",
   "execution_count": 50,
   "metadata": {
    "collapsed": true
   },
   "outputs": [],
   "source": [
    "def cast_name(cast_dic):\n",
    "    cast_text = cast_dic\n",
    "    person_pos = [pos for pos, char in enumerate(cast_text) if char == \"*\"]\n",
    "    name_stop = [pos for pos, char in enumerate(cast_text) if char == \"]\"]\n",
    "    cast_names = []\n",
    "    for pos in person_pos:\n",
    "        name_field = cast_text[pos:pos+25]\n",
    "        end_idx = name_field.find(']]') + pos\n",
    "        name = cast_text[pos+4:end_idx]\n",
    "        cast_names.append(name)\n",
    "    return cast_names\n",
    "    \n",
    "#cast_names = cast_name(test_people)\n",
    "#cast_names"
   ]
  },
  {
   "cell_type": "markdown",
   "metadata": {},
   "source": [
    "## 시청율"
   ]
  },
  {
   "cell_type": "code",
   "execution_count": 51,
   "metadata": {
    "collapsed": true
   },
   "outputs": [],
   "source": [
    "# Later"
   ]
  },
  {
   "cell_type": "markdown",
   "metadata": {},
   "source": [
    "## OST"
   ]
  },
  {
   "cell_type": "code",
   "execution_count": 52,
   "metadata": {
    "collapsed": true
   },
   "outputs": [],
   "source": [
    "# Later "
   ]
  },
  {
   "cell_type": "markdown",
   "metadata": {},
   "source": [
    "## Combine text extraction functions"
   ]
  },
  {
   "cell_type": "code",
   "execution_count": 53,
   "metadata": {
    "collapsed": true
   },
   "outputs": [],
   "source": [
    "def extract_text(raw_text):\n",
    "    \"\"\"\n",
    "    Using Wiki's unique format rules, extract text\n",
    "    Returns text in dictionary\n",
    "    \"\"\"\n",
    "    text_start_idx = raw_text.find(\"==\")\n",
    "    text_end_idx = raw_text.find(\"[[분류:\")\n",
    "    text = raw_text[text_start_idx:text_end_idx]\n",
    "    \n",
    "    text_pos = [text.find(field) for field in text_fields]\n",
    "    text_pos_pair = list(zip(text_pos, text_fields))\n",
    "    text_pos_pair = sorted(text_pos_pair, key = lambda tup:tup[0])\n",
    "    \n",
    "    text_dic = {}\n",
    "    for idx, field in enumerate(text_pos_pair):\n",
    "        if field[0] <0:  # If there is no value, pass\n",
    "            pass\n",
    "        else: \n",
    "            field_name = field[1][3:-3]\n",
    "            start_idx = field[0] + len(field_name) + 6\n",
    "            if idx == len(text_pos_pair) - 1:\n",
    "                end_idx = len(text)\n",
    "            else: \n",
    "                end_idx = text_pos_pair[idx + 1][0]-1\n",
    "\n",
    "            \"\"\"\n",
    "            Handle cast starts\n",
    "            \"\"\"\n",
    "            \n",
    "            if field_name == \"등장 인물\":\n",
    "                text_dic[field_name] = {}\n",
    "                cast_raw_text = remove_ref(text[start_idx:end_idx].rstrip())\n",
    "                cast_dict = cast_category(cast_raw_text)\n",
    "                \n",
    "                text_dic[field_name] = cast_dict\n",
    "            else:           \n",
    "                text_dic[field_name] = remove_ref(text[start_idx:end_idx].rstrip())\n",
    "    return text_dic"
   ]
  },
  {
   "cell_type": "code",
   "execution_count": 54,
   "metadata": {
    "collapsed": true
   },
   "outputs": [],
   "source": [
    "# text_dic = extract_text(text_raw)\n",
    "# text_dic.keys()\n",
    "# print(text_dic['이모저모'])"
   ]
  },
  {
   "cell_type": "markdown",
   "metadata": {},
   "source": [
    "# Step 3: Scrape everything"
   ]
  },
  {
   "cell_type": "code",
   "execution_count": 83,
   "metadata": {
    "collapsed": true
   },
   "outputs": [],
   "source": [
    "def extract_everything(title_lists):\n",
    "    wiki_dic = {}\n",
    "    for title in title_lists:\n",
    "        wiki_dic[title] = {}\n",
    "        raw_text = get_raw_text(title)\n",
    "        \n",
    "        infobox_dic = extract_infobox(raw_text, infobox_fields)\n",
    "        summary = extract_summary(raw_text)\n",
    "        tags = extract_tag(raw_text)\n",
    "        texts = extract_text(raw_text)\n",
    "        \n",
    "        wiki_dic[title]['infobox'] = infobox_dic\n",
    "        wiki_dic[title]['summary'] = summary\n",
    "        wiki_dic[title]['tags'] = tags\n",
    "        wiki_dic[title]['others'] = texts\n",
    "    return wiki_dic"
   ]
  },
  {
   "cell_type": "code",
   "execution_count": 107,
   "metadata": {},
   "outputs": [],
   "source": [
    "wiki_metadata = extract_everything(movie_list)\n",
    "#print(wiki_metadata['별에서_온_그대']['등장 인물']['도민준 주변 인물'])"
   ]
  },
  {
   "cell_type": "code",
   "execution_count": 131,
   "metadata": {},
   "outputs": [
    {
     "data": {
      "text/plain": [
       "dict_keys(['summary', 'tags', 'others', 'infobox'])"
      ]
     },
     "execution_count": 131,
     "metadata": {},
     "output_type": "execute_result"
    }
   ],
   "source": [
    "wiki_metadata['푸른_바다의_전설'].keys()"
   ]
  },
  {
   "cell_type": "code",
   "execution_count": 204,
   "metadata": {},
   "outputs": [
    {
     "data": {
      "text/plain": [
       "{'각본': '영철, 이미림',\n",
       " '기획': '[서수민]]\\n|책',\n",
       " '방송 국가': '{KOR}}',\n",
       " '방송 기간': '[2017년]] [[6월 2일]] ~ [[2017년]] [[7월 22일]]',\n",
       " '방송 분량': '5분',\n",
       " '방송 시간': '주 금, 토 밤 11:00 ~ 12:10 <br/>(1일 2회 연속 방송)',\n",
       " '방송 채널': '[KBS 2TV]]\\n|추가 편성= [[KBS 드라마]], [[채널칭]], [[드라마 H]]',\n",
       " '방송 횟수': '2부작',\n",
       " '방송명': '고의 한방',\n",
       " '시청등급': '5\\n|그림=\\n|그림 설명=',\n",
       " '연출': '[유호진]], [[차태현]], 김상훈',\n",
       " '음성': '채널 [[돌비 디지털]]([[디지털 텔레비전|디지털]])',\n",
       " '자막': '[자막#동일 언어 자막|청각 장애인을 위한 자막 방송]]\\n|고화질 방송여부 = [[고선명 텔레비전|HD]] 제작 · 방송\\n|외부 링크 = http://www.kbs.co.kr/drama/bestpunch/\\n|외부 링크 이름 = 최고의 한방 공식 홈페이지\\n}}',\n",
       " '장르': '춘, 드라마',\n",
       " '제작': '성혜, 김상헌',\n",
       " '제작사': '스터 유니온, [[초록뱀미디어]]',\n",
       " '조연출': '상현, 최지영',\n",
       " '출연자': '[윤시윤]], [[이세영 (배우)|이세영]], [[김민재 (1996년)|김민재]], [[차태현]], [[동현배]] 외\\n|촬영= 강윤순, 김기호\\n|조명= 이병관\\n|미술= 이항, 원지환\\n|편집= 김수현',\n",
       " '프로듀서': '경일\\n|프로듀서= 오현숙'}"
      ]
     },
     "execution_count": 204,
     "metadata": {},
     "output_type": "execute_result"
    }
   ],
   "source": [
    "wiki_metadata['최고의_한방']['infobox']#['장르']"
   ]
  },
  {
   "cell_type": "markdown",
   "metadata": {},
   "source": [
    "## Make dictionaries"
   ]
  },
  {
   "cell_type": "code",
   "execution_count": 134,
   "metadata": {
    "collapsed": true
   },
   "outputs": [],
   "source": [
    "# Get drama titles\n",
    "drama_titles = wiki_metadata.keys()"
   ]
  },
  {
   "cell_type": "code",
   "execution_count": 135,
   "metadata": {},
   "outputs": [
    {
     "data": {
      "text/plain": [
       "20"
      ]
     },
     "execution_count": 135,
     "metadata": {},
     "output_type": "execute_result"
    }
   ],
   "source": [
    "len(drama_titles)"
   ]
  },
  {
   "cell_type": "code",
   "execution_count": 136,
   "metadata": {},
   "outputs": [],
   "source": [
    "drama_index = dict(zip(list(range(0, len(drama_titles)+1)), drama_titles))\n",
    "reverse_drama_index = dict(zip(drama_titles, list(range(0, len(drama_titles)+1))))"
   ]
  },
  {
   "cell_type": "code",
   "execution_count": 137,
   "metadata": {
    "collapsed": true
   },
   "outputs": [],
   "source": [
    "drama_index_df = pd.DataFrame(list(drama_index.items()), columns=['drama_index', 'drama_title'])"
   ]
  },
  {
   "cell_type": "code",
   "execution_count": 184,
   "metadata": {},
   "outputs": [
    {
     "data": {
      "text/html": [
       "<div>\n",
       "<style>\n",
       "    .dataframe thead tr:only-child th {\n",
       "        text-align: right;\n",
       "    }\n",
       "\n",
       "    .dataframe thead th {\n",
       "        text-align: left;\n",
       "    }\n",
       "\n",
       "    .dataframe tbody tr th {\n",
       "        vertical-align: top;\n",
       "    }\n",
       "</style>\n",
       "<table border=\"1\" class=\"dataframe\">\n",
       "  <thead>\n",
       "    <tr style=\"text-align: right;\">\n",
       "      <th></th>\n",
       "      <th>drama_index</th>\n",
       "      <th>drama_title</th>\n",
       "    </tr>\n",
       "  </thead>\n",
       "  <tbody>\n",
       "    <tr>\n",
       "      <th>0</th>\n",
       "      <td>0</td>\n",
       "      <td>가을동화</td>\n",
       "    </tr>\n",
       "    <tr>\n",
       "      <th>1</th>\n",
       "      <td>1</td>\n",
       "      <td>푸른_바다의_전설</td>\n",
       "    </tr>\n",
       "    <tr>\n",
       "      <th>2</th>\n",
       "      <td>2</td>\n",
       "      <td>베이비시터_(드라마)</td>\n",
       "    </tr>\n",
       "    <tr>\n",
       "      <th>3</th>\n",
       "      <td>3</td>\n",
       "      <td>아내의_자격</td>\n",
       "    </tr>\n",
       "    <tr>\n",
       "      <th>4</th>\n",
       "      <td>4</td>\n",
       "      <td>커피프린스_1호점</td>\n",
       "    </tr>\n",
       "    <tr>\n",
       "      <th>5</th>\n",
       "      <td>5</td>\n",
       "      <td>하얀거탑_(2007년_드라마)</td>\n",
       "    </tr>\n",
       "    <tr>\n",
       "      <th>6</th>\n",
       "      <td>6</td>\n",
       "      <td>그들이_사는_세상</td>\n",
       "    </tr>\n",
       "    <tr>\n",
       "      <th>7</th>\n",
       "      <td>7</td>\n",
       "      <td>연애의_발견</td>\n",
       "    </tr>\n",
       "    <tr>\n",
       "      <th>8</th>\n",
       "      <td>8</td>\n",
       "      <td>찬란한_유산</td>\n",
       "    </tr>\n",
       "    <tr>\n",
       "      <th>9</th>\n",
       "      <td>9</td>\n",
       "      <td>최고의_한방</td>\n",
       "    </tr>\n",
       "    <tr>\n",
       "      <th>10</th>\n",
       "      <td>10</td>\n",
       "      <td>로열_패밀리_(드라마)</td>\n",
       "    </tr>\n",
       "    <tr>\n",
       "      <th>11</th>\n",
       "      <td>11</td>\n",
       "      <td>밀회</td>\n",
       "    </tr>\n",
       "    <tr>\n",
       "      <th>12</th>\n",
       "      <td>12</td>\n",
       "      <td>연애시대_(드라마)</td>\n",
       "    </tr>\n",
       "    <tr>\n",
       "      <th>13</th>\n",
       "      <td>13</td>\n",
       "      <td>별에서_온_그대</td>\n",
       "    </tr>\n",
       "    <tr>\n",
       "      <th>14</th>\n",
       "      <td>14</td>\n",
       "      <td>아내의_유혹</td>\n",
       "    </tr>\n",
       "    <tr>\n",
       "      <th>15</th>\n",
       "      <td>15</td>\n",
       "      <td>프로듀사</td>\n",
       "    </tr>\n",
       "    <tr>\n",
       "      <th>16</th>\n",
       "      <td>16</td>\n",
       "      <td>상속자들</td>\n",
       "    </tr>\n",
       "    <tr>\n",
       "      <th>17</th>\n",
       "      <td>17</td>\n",
       "      <td>도깨비_(드라마)</td>\n",
       "    </tr>\n",
       "    <tr>\n",
       "      <th>18</th>\n",
       "      <td>18</td>\n",
       "      <td>비밀의_숲</td>\n",
       "    </tr>\n",
       "    <tr>\n",
       "      <th>19</th>\n",
       "      <td>19</td>\n",
       "      <td>굿_와이프_(2016년_드라마)</td>\n",
       "    </tr>\n",
       "  </tbody>\n",
       "</table>\n",
       "</div>"
      ],
      "text/plain": [
       "    drama_index        drama_title\n",
       "0             0               가을동화\n",
       "1             1          푸른_바다의_전설\n",
       "2             2        베이비시터_(드라마)\n",
       "3             3             아내의_자격\n",
       "4             4          커피프린스_1호점\n",
       "5             5   하얀거탑_(2007년_드라마)\n",
       "6             6          그들이_사는_세상\n",
       "7             7             연애의_발견\n",
       "8             8             찬란한_유산\n",
       "9             9             최고의_한방\n",
       "10           10       로열_패밀리_(드라마)\n",
       "11           11                 밀회\n",
       "12           12         연애시대_(드라마)\n",
       "13           13           별에서_온_그대\n",
       "14           14             아내의_유혹\n",
       "15           15               프로듀사\n",
       "16           16               상속자들\n",
       "17           17          도깨비_(드라마)\n",
       "18           18              비밀의_숲\n",
       "19           19  굿_와이프_(2016년_드라마)"
      ]
     },
     "execution_count": 184,
     "metadata": {},
     "output_type": "execute_result"
    }
   ],
   "source": [
    "drama_index_df"
   ]
  },
  {
   "cell_type": "code",
   "execution_count": 198,
   "metadata": {},
   "outputs": [],
   "source": [
    "# Genre table\n",
    "program_meta_data = {}\n",
    "\n",
    "\n",
    "#drama_title_ = []\n",
    "null_value = None\n",
    "for title in drama_titles:\n",
    "    try:\n",
    "        genre_str = wiki_metadata[title]['infobox']['장르']\n",
    "        genre_str = genre_str.replace(\"[\",'').replace(\"]\",'').replace(\" \",'')\n",
    "        genre_list = genre_str.split(',')\n",
    "    except:\n",
    "        genre_list = null_value\n",
    "    \n",
    "    try: \n",
    "        official_title = wiki_metadata[title]['infobox']['방송명']\n",
    "    except:\n",
    "        official_title = null_value\n",
    "    \n",
    "    try:\n",
    "        episode_num = int((wiki_metadata[title]['infobox']['방송 횟수']).replace('부작',''))\n",
    "    except:\n",
    "        episode_num = null_value\n",
    "        \n",
    "    try:\n",
    "        writer = (wiki_metadata[title]['infobox']['각본']).replace(\"[\",'').replace(\"]\",'')\n",
    "    except:\n",
    "        writer = null_value\n",
    "        \n",
    "    try:\n",
    "        air_channel = (wiki_metadata[title]['infobox']['방송 채널']).replace(\"[\",'').replace(\"]\",'').split('|')\n",
    "    except:\n",
    "        air_channel = null_value\n",
    "        \n",
    "    try:\n",
    "        cast = (wiki_metadata[title]['infobox']['출연자']).replace(\"[\",'').replace(\"]\",'').replace(\" \",'').split(',')\n",
    "    except:\n",
    "        cast = null_value\n",
    "        \n",
    "    try:\n",
    "        run_time = int((wiki_metadata[title]['infobox']['방송 분량']).replace(\"분\",''))\n",
    "    except:\n",
    "        run_time = null_value\n",
    "        \n",
    "    try:\n",
    "        air_dow_str = (wiki_metadata[title]['infobox']['방송 시간']).replace(\"요일\",'').replace(\" \",'')\n",
    "        air_dow_str_li = [i for i in air_dow_str]\n",
    "        dow = ['월','화','수','목','금','토','일']\n",
    "        air_dow = list(set(air_dow_str_li).intersection(dow))\n",
    "        \n",
    "        tod = ['밤','낮']\n",
    "        air_tod = list(set(air_dow_str_li).intersection(tod))\n",
    "        time = list(range(0,60))\n",
    "        time_str = [str(x) for x in time]\n",
    "        air_time = []\n",
    "#         for i in air_dow_str_li:\n",
    "#             if i in time_str:\n",
    "#                 air_time.append(i)\n",
    "        air_time = [x for x in air_dow_str_li if x in time_str]\n",
    "        #air_time = list(set(time_str).intersection(air_dow_str_li))\n",
    "    except:\n",
    "        air_dow = null_value        \n",
    "        air_tod = null_value\n",
    "        air_time = null_value\n",
    "    \n",
    "    meta = [genre_list,official_title,episode_num,writer,air_channel,cast,run_time,air_dow,air_tod,air_time]\n",
    "    program_meta_data[reverse_drama_index[title]] = meta"
   ]
  },
  {
   "cell_type": "code",
   "execution_count": 203,
   "metadata": {},
   "outputs": [
    {
     "data": {
      "text/plain": [
       "[['춘', '드라마'],\n",
       " '고의 한방',\n",
       " 2,\n",
       " '영철, 이미림',\n",
       " ['KBS 2TV\\n', '추가 편성= KBS 드라마, 채널칭, 드라마 H'],\n",
       " ['윤시윤',\n",
       "  '이세영(배우)|이세영',\n",
       "  '김민재(1996년)|김민재',\n",
       "  '차태현',\n",
       "  '동현배외\\n|촬영=강윤순',\n",
       "  '김기호\\n|조명=이병관\\n|미술=이항',\n",
       "  '원지환\\n|편집=김수현'],\n",
       " 5,\n",
       " ['금', '일', '토'],\n",
       " ['밤'],\n",
       " ['1', '1', '0', '0', '1', '2', '1', '0', '1', '2']]"
      ]
     },
     "execution_count": 203,
     "metadata": {},
     "output_type": "execute_result"
    }
   ],
   "source": [
    "program_meta_data[9]"
   ]
  },
  {
   "cell_type": "code",
   "execution_count": 146,
   "metadata": {
    "collapsed": true
   },
   "outputs": [],
   "source": [
    "'방송 기간': '[[2008년]] [[10월 27일]] ~ [[2008년]] [[12월 16일]]',\n",
    "\n",
    " '방송 시간': '매주 월·화요일 밤 9시 55분',\n"
   ]
  },
  {
   "cell_type": "code",
   "execution_count": 161,
   "metadata": {},
   "outputs": [],
   "source": [
    "dow = ['월','화','수','목','금','토','일']\n",
    "test = ['월','화']"
   ]
  },
  {
   "cell_type": "code",
   "execution_count": 164,
   "metadata": {},
   "outputs": [
    {
     "data": {
      "text/plain": [
       "['월', '화']"
      ]
     },
     "execution_count": 164,
     "metadata": {},
     "output_type": "execute_result"
    }
   ],
   "source": [
    "over = list(set(dow).intersection(test))\n",
    "over"
   ]
  },
  {
   "cell_type": "code",
   "execution_count": 170,
   "metadata": {},
   "outputs": [],
   "source": [
    "dowdow = '매주월·화요일밤9시55분'"
   ]
  },
  {
   "cell_type": "code",
   "execution_count": 172,
   "metadata": {},
   "outputs": [],
   "source": [
    "dowdow_list = [i for i in dowdow]"
   ]
  },
  {
   "cell_type": "code",
   "execution_count": 173,
   "metadata": {},
   "outputs": [
    {
     "data": {
      "text/plain": [
       "['매', '주', '월', '·', '화', '요', '일', '밤', '9', '시', '5', '5', '분']"
      ]
     },
     "execution_count": 173,
     "metadata": {},
     "output_type": "execute_result"
    }
   ],
   "source": [
    "dowdow_list"
   ]
  },
  {
   "cell_type": "code",
   "execution_count": null,
   "metadata": {
    "collapsed": true
   },
   "outputs": [],
   "source": []
  },
  {
   "cell_type": "code",
   "execution_count": null,
   "metadata": {
    "collapsed": true
   },
   "outputs": [],
   "source": []
  },
  {
   "cell_type": "code",
   "execution_count": 70,
   "metadata": {},
   "outputs": [
    {
     "data": {
      "text/html": [
       "<div>\n",
       "<style>\n",
       "    .dataframe thead tr:only-child th {\n",
       "        text-align: right;\n",
       "    }\n",
       "\n",
       "    .dataframe thead th {\n",
       "        text-align: left;\n",
       "    }\n",
       "\n",
       "    .dataframe tbody tr th {\n",
       "        vertical-align: top;\n",
       "    }\n",
       "</style>\n",
       "<table border=\"1\" class=\"dataframe\">\n",
       "  <thead>\n",
       "    <tr style=\"text-align: right;\">\n",
       "      <th></th>\n",
       "      <th>Date</th>\n",
       "      <th>DateValue</th>\n",
       "    </tr>\n",
       "  </thead>\n",
       "  <tbody>\n",
       "    <tr>\n",
       "      <th>0</th>\n",
       "      <td>1970-01-01 00:00:00.000000000</td>\n",
       "      <td>마이_프린세스</td>\n",
       "    </tr>\n",
       "    <tr>\n",
       "      <th>1</th>\n",
       "      <td>1970-01-01 00:00:00.000000001</td>\n",
       "      <td>이웃집_웬수</td>\n",
       "    </tr>\n",
       "    <tr>\n",
       "      <th>2</th>\n",
       "      <td>1970-01-01 00:00:00.000000002</td>\n",
       "      <td>옥탑방_고양이</td>\n",
       "    </tr>\n",
       "  </tbody>\n",
       "</table>\n",
       "</div>"
      ],
      "text/plain": [
       "                           Date DateValue\n",
       "0 1970-01-01 00:00:00.000000000   마이_프린세스\n",
       "1 1970-01-01 00:00:00.000000001    이웃집_웬수\n",
       "2 1970-01-01 00:00:00.000000002   옥탑방_고양이"
      ]
     },
     "execution_count": 70,
     "metadata": {},
     "output_type": "execute_result"
    }
   ],
   "source": [
    "df[:3]"
   ]
  },
  {
   "cell_type": "code",
   "execution_count": null,
   "metadata": {
    "collapsed": true
   },
   "outputs": [],
   "source": []
  },
  {
   "cell_type": "code",
   "execution_count": 37,
   "metadata": {
    "collapsed": true
   },
   "outputs": [],
   "source": [
    "# Convert dictionary into json\n",
    "import json"
   ]
  },
  {
   "cell_type": "code",
   "execution_count": 55,
   "metadata": {
    "collapsed": true
   },
   "outputs": [],
   "source": [
    "wiki_meta_json = json.dumps(wiki_metadata, ensure_ascii=False)\n",
    "loaded_wiki_meta_json = json.loads(wiki_meta_json)"
   ]
  },
  {
   "cell_type": "code",
   "execution_count": null,
   "metadata": {
    "collapsed": true
   },
   "outputs": [],
   "source": []
  },
  {
   "cell_type": "code",
   "execution_count": null,
   "metadata": {
    "collapsed": true
   },
   "outputs": [],
   "source": []
  },
  {
   "cell_type": "markdown",
   "metadata": {},
   "source": [
    "# Step 3: Save in database"
   ]
  },
  {
   "cell_type": "code",
   "execution_count": 59,
   "metadata": {
    "collapsed": true
   },
   "outputs": [],
   "source": [
    "es = elasticsearch.Elasticsearch(es_cluster)"
   ]
  },
  {
   "cell_type": "code",
   "execution_count": 88,
   "metadata": {
    "collapsed": true
   },
   "outputs": [],
   "source": [
    "idx = 0\n",
    "movie_titles = wiki_metadata.keys()\n",
    "\n",
    "for title in movie_titles:\n",
    "    es.index(index = 'k5_movie', doc_type = 'doc', id = idx, body = {\n",
    "        'title' : title,\n",
    "        #'cast' : wiki_metadata[title]['등장 인물'],\n",
    "        #'plot' : wiki_metadata[title]['줄거리'],\n",
    "        'body' : wiki_metadata[title]\n",
    "    })\n",
    "    idx += 1"
   ]
  },
  {
   "cell_type": "code",
   "execution_count": 94,
   "metadata": {},
   "outputs": [
    {
     "data": {
      "text/plain": [
       "{'_id': '1',\n",
       " '_index': 'k5_movie',\n",
       " '_source': {'body': {'등장 인물': {'특별 출연': ['대한제국 순종|순종', '', '주상욱', '2011년']},\n",
       "   '시청률': '\\n{|class=wikitable\\n!colspan=\"6\" | [[2011년]]\\n|-align=center\\n!rowspan=\"2\"|회차\\n!rowspan=\"2\"|방송일\\n!colspan=\"2\"|[[TNmS]] 시청률\\n!colspan=\"2\"|[[AGB 닐슨 미디어 리서치|AGB]] 시청률\\n|-\\n!대한민국(전국)\\n!서울(수도권)\\n!대한민국(전국)\\n!서울(수도권)\\'\\'\\'\\n|-align=center\\n!제1회\\n|[[1월 5일]]\\n|13.0%\\n|17.1%\\n|15.9%\\n|17.5%\\n|-align=center\\n!제2회\\n|[[1월 6일]]\\n|14.3%\\n|17.2%\\n|17.6%\\n|19.8%\\n|-align=center\\n!제3회\\n|[[1월 12일]]\\n|16.2%\\n|20.0%\\n|20.0%\\n|21.7%\\n|-align=center\\n!제4회\\n|[[1월 13일]]\\n|<span style=color:red>\\'\\'\\'17.0%\\'\\'\\'</span>\\n|<span style=color:red>\\'\\'\\'22.7%\\'\\'\\'</span>\\n|<span style=color:red>\\'\\'\\'20.9%\\'\\'\\'</span>\\n|<span style=color:red>\\'\\'\\'23.0%\\'\\'\\'</span>\\n|-align=center\\n!제5회\\n|[[1월 19일]]\\n|16.9%\\n|21.9%\\n|18.8%\\n|21.0%\\n|-align=center\\n!제6회\\n|[[1월 20일]]\\n|14.0%\\n|18.4%\\n|18.8%\\n|21.3%\\n|-align=center\\n!제7회\\n|[[1월 26일]]\\n|14.1%\\n|18.2%\\n|15.7%\\n|17.7%\\n|-align=center\\n!제8회\\n|[[1월 27일]]\\n|14.5%\\n|18.0%\\n|17.4%\\n|20.0%\\n|-align=center\\n!제9회\\n|[[2월 2일]]\\n|9.9%\\n|11.8%\\n|12.1%\\n|13.6%\\n|-align=center\\n!제10회\\n|[[2월 3일]]\\n|<span style=color:blue>\\'\\'\\'8.4%\\'\\'\\'</span>\\n|<span style=color:blue>\\'\\'\\'10.1%\\'\\'\\'</span>\\n|<span style=color:blue>\\'\\'\\'11.3%\\'\\'\\'</span>\\n|<span style=color:blue>\\'\\'\\'13.0%\\'\\'\\'</span>\\n|-align=center\\n!제11회\\n|[[2월 9일]]\\n|12.0%\\n|14.7%\\n|15.2%\\n|17.7%\\n|-align=center\\n!제12회\\n|[[2월 10일]]\\n|12.4%\\n|15.8%\\n|14.8%\\n|17.0%\\n|-align=center\\n!제13회\\n|[[2월 16일]]\\n|12.6%\\n|15.5%\\n|15.3%\\n|17.9%\\n|-align=center\\n!제14회\\n|[[2월 17일]]\\n|12.3%\\n|15.5%\\n|15.1%\\n|17.4%\\n|-align=center\\n!제15회\\n|[[2월 23일]]\\n|12.0%\\n|15.6%\\n|14.6%\\n|16.7%\\n|-align=center\\n!제16회\\n|[[2월 24일]]\\n|12.3%\\n|15.4%\\n|15.0%\\n|17.2%\\n|-align=center\\n|}\\n\\n== 경쟁 프로그램 ==\\n* [[싸인 (드라마)|싸인]] ([[SBS TV|SBS]])\\n* [[프레지던트 (드라마)|프레지던트]] ([[KBS 제2TV|KBS 2TV]])',\n",
       "   '제작진': \"\\n* '''기획''' : 한희\\n* '''각본''' : 장영실\\n* '''연출''' : [[권석장]], 강대선\\n* '''제작''' : 이선상, 이주열\\n* '''방송사''' : [[문화방송|MBC]]\\n\\n== 각주 ==\\n<references/>\\n\\n== 외부 링크 ==\\n* [http://www.imbc.com/broad/tv/drama/myprincess MBC 마이 프린세스 홈페이지]\\n\\n{{전작후작\\n|방송국=[[문화방송]]\\n|방송개요=[[문화방송 수목 미니시리즈|수목 미니시리즈]]\\n|이전 작품=[[즐거운 나의 집 (드라마)|즐거운 나의 집]]<br /> ([[2010년]] [[10월 27일]] ~ [[2010년]] [[12월 23일]])\\n|작품명=마이 프린세스<br /> ([[2011년]] [[1월 5일]] ~ [[2011년]] [[2월 24일]])\\n|다음 작품=[[로열 패밀리 (드라마)|로열 패밀리]]<br /> ([[2011년]] [[3월 2일]] ~ [[2011년]] [[4월 28일]])\\n}}\\n\\n{{문화방송 수목 미니시리즈}}\"},\n",
       "  'title': '마이_프린세스'},\n",
       " '_type': 'doc',\n",
       " '_version': 4,\n",
       " 'found': True}"
      ]
     },
     "execution_count": 94,
     "metadata": {},
     "output_type": "execute_result"
    }
   ],
   "source": [
    "es.get(index = 'k5_movie', doc_type = 'doc', id = 1)"
   ]
  },
  {
   "cell_type": "code",
   "execution_count": null,
   "metadata": {
    "collapsed": true
   },
   "outputs": [],
   "source": []
  }
 ],
 "metadata": {
  "kernelspec": {
   "display_name": "Python 3",
   "language": "python",
   "name": "python3"
  },
  "language_info": {
   "codemirror_mode": {
    "name": "ipython",
    "version": 3
   },
   "file_extension": ".py",
   "mimetype": "text/x-python",
   "name": "python",
   "nbconvert_exporter": "python",
   "pygments_lexer": "ipython3",
   "version": "3.4.5"
  }
 },
 "nbformat": 4,
 "nbformat_minor": 2
}
