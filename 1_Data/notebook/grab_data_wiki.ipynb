{
 "cells": [
  {
   "cell_type": "markdown",
   "metadata": {},
   "source": [
    "# Web-scraping for blogs written in Korean\n",
    "* documentation: https://www.crummy.com/software/BeautifulSoup/bs4/doc/\n",
    "* https://scraperwiki.com/2011/12/how-to-scrape-and-parse-wikipedia/"
   ]
  },
  {
   "cell_type": "markdown",
   "metadata": {},
   "source": [
    "#### Required libraries"
   ]
  },
  {
   "cell_type": "code",
   "execution_count": 1,
   "metadata": {},
   "outputs": [],
   "source": [
    "import json\n",
    "import os\n",
    "import glob\n",
    "from urllib.request import urlopen\n",
    "import time\n",
    "from bs4 import BeautifulSoup\n",
    "from urllib.request import urlopen\n",
    "from urllib.parse import quote\n",
    "from urllib.parse import urlsplit, parse_qs\n",
    "import lxml.etree\n",
    "import urllib\n",
    "import urllib.parse\n",
    "import re"
   ]
  },
  {
   "cell_type": "markdown",
   "metadata": {},
   "source": [
    "# Step 1: Scrape table on Wikipedia (using Beautiful Soup)\n",
    "* Not recommended as Wiki already provides dump using its own API."
   ]
  },
  {
   "cell_type": "code",
   "execution_count": 2,
   "metadata": {},
   "outputs": [],
   "source": [
    "movie_list = ['가을동화','별에서_온_그대','그들이_사는_세상','하얀거탑_(2007년_드라마)','찬란한_유산','아내의_유혹', '도깨비_(드라마)','굿_와이프_(2016년_드라마)','비밀의_숲','아내의_자격', \n",
    "              '프로듀사','상속자들','연애의_발견','최고의_한방','푸른_바다의_전설','베이비시터_(드라마)','밀회','커피프린스_1호점','로열_패밀리_(드라마)','연애시대_(드라마)',\n",
    "             '응답하라_1988','풍문으로_들었소','자이언트_(드라마)','미생_(드라마)','아이가_다섯','38사기동대','시그널_(드라마)','최고의_사랑','온에어_(드라마)','마이_프린세스','넝쿨째_굴러온_당신',\n",
    "             '아르곤_(2003년_드라마)','옥탑방_고양이','품위있는_그녀','구해줘','뿌리깊은_나무_(2011년_드라마)','펀치_(드라마)','혼술남녀','치즈인더트랩_(드라마)',\n",
    "             '청춘시대_(드라마)','운명처럼_널_사랑해','끝에서_두번째_사랑','판타스틱_(드라마)','구르미_그린_달빛_(드라마)','9회말_2아웃',\n",
    "             '허준_(드라마)','기억_(드라마)','쌈_마이웨이','수상한_파트너','힘쎈여자_도봉순','태양의_여자','시크릿_가든_(드라마)','내_남자의_여자','황금의_제국',\n",
    "             '지붕뚫고_하이킥!','신의_저울','그_겨울,_바람이_분다','아버지가_이상해','학교_2017','역적_:_백성을_훔친_도적',\n",
    "             '사임당,_빛의_일기','대장금','이웃집_웬수','고백부부','명불허전_(드라마)','당신이_잠든_사이에_(드라마)','마의','태양의_후예','내조의_여왕','반짝반짝_빛나는','마녀보감',\n",
    "             '결혼계약','골든타임_(드라마)','직장의_신','너의_목소리가_들려','욱씨남정기','해를_품은_달_(드라마)','바람의_화원_(드라마)','질투의_화신','추노','올인','또!_오해영','신사의_품격',\n",
    "             '낭만닥터_김사부','애인있어요','가족끼리_왜_이래','닥터스_(드라마)','옥중화','오_나의_귀신님','W_(드라마)']\n",
    "\n",
    "# movie_list = ['가을동화','별에서_온_그대','그들이_사는_세상','하얀거탑_(2007년_드라마)','찬란한_유산','아내의_유혹', '도깨비_(드라마)','굿_와이프_(2016년_드라마)','비밀의_숲','아내의_자격', \n",
    "#               '프로듀사','상속자들','연애의_발견','최고의_한방','푸른_바다의_전설','베이비시터_(드라마)','밀회','커피프린스_1호점','로열_패밀리_(드라마)','연애시대_(드라마)']"
   ]
  },
  {
   "cell_type": "code",
   "execution_count": 3,
   "metadata": {},
   "outputs": [],
   "source": [
    "def wiki_url(movie_title):\n",
    "    movie_title_urls = set()\n",
    "    for title in movie_title:\n",
    "        url = \"https://ko.wikipedia.org/wiki/\" + title\n",
    "        movie_title_urls.add(url)\n",
    "    return(list(movie_title_urls)) # Convert set to list"
   ]
  },
  {
   "cell_type": "code",
   "execution_count": 15,
   "metadata": {},
   "outputs": [],
   "source": [
    "def get_table(url):\n",
    "    try:\n",
    "        page = requests.get(url)\n",
    "        soup = BeautifulSoup(page.content, 'html.parser')\n",
    "        table_box = soup.find(\"table\", {\"class\": \"infobox\"})\n",
    "        info_table = {}\n",
    "        for row in table_box.findAll(\"tr\"):\n",
    "            for cl in row.findAll(\"th\"): # Table column\n",
    "                variable = cl.find(text = True)\n",
    "                for x in row.findAll(\"td\"): # Table cell value\n",
    "                    value = x.find(text = True)\n",
    "                    info_table[variable] = value\n",
    "        return info_table \n",
    "    except:\n",
    "        pass\n"
   ]
  },
  {
   "cell_type": "code",
   "execution_count": 16,
   "metadata": {},
   "outputs": [
    {
     "name": "stdout",
     "output_type": "stream",
     "text": [
      "[]\n"
     ]
    }
   ],
   "source": [
    "def wiki_table_summary(movie_lists):\n",
    "    fail_list = []\n",
    "    movie_dict = {}\n",
    "    movie_urls = wiki_url(movie_lists)\n",
    "\n",
    "    for url in movie_urls:\n",
    "        title = urlsplit(url).path.split('/')[2]\n",
    "        movie_info = get_table(url)\n",
    "        if movie_info is None:\n",
    "            fail_list.append(title)\n",
    "        else:\n",
    "            movie_dict[title] = movie_info\n",
    "            \n",
    "    print(fail_list)\n",
    "    return movie_dict\n",
    "\n",
    "movie_wiki = wiki_table_summary(movie_list)\n",
    "#movie_wiki"
   ]
  },
  {
   "cell_type": "code",
   "execution_count": 450,
   "metadata": {},
   "outputs": [],
   "source": [
    "#movie_wiki['별에서_온_그대']"
   ]
  },
  {
   "cell_type": "markdown",
   "metadata": {},
   "source": [
    "# Step 2: Scrape data on Wikipedia (using Mediwiki API)\n",
    "* Better quality data than BeautifulSoup"
   ]
  },
  {
   "cell_type": "code",
   "execution_count": 558,
   "metadata": {},
   "outputs": [],
   "source": [
    "movie_list = ['가을동화','별에서_온_그대','그들이_사는_세상']\n",
    "\n",
    "# Later:\n",
    "# * Need to sort by Korean characters"
   ]
  },
  {
   "cell_type": "code",
   "execution_count": 3,
   "metadata": {},
   "outputs": [],
   "source": [
    "infobox_fields = ['방송명','원제','시청등급','장르','방송 시간','방송 분량','방송 기간','방송 횟수','방송 국가','방송 채널','기획','제작','총감독','감독','연출','조연출',\n",
    "          '원작','각본','총괄프로듀서','프로듀서','출연자','분장','미용','의상디자인','의상','음성','자막','데이터 방송','여는 곡','닫는 곡','촬영감독','촬영보',\n",
    "         '조명감독','조명1st','조명팀','미술감독','미술개발','미술행정','극본','대본','구성','출연자','제작사','자막','주요 촬영지']\n",
    "\n",
    "text_fields = [\"== 줄거리 ==\",\"== 등장 인물 ==\",\"== OST ==\",\"== 수상 목록 ==\",\"== 역사적 사실과 오류 ==\",\"== 이모저모 ==\",\"== 시청률 ==\",\"== 사운드트랙 ==\",\"== 표절 논란 ==\",\"== 결방 사유 및 연장 ==\",\"== 수상 경력 ==\",\"== 동시간대 드라마 ==\",\n",
    "              \"== 편성 변경 ==\",\"== 경쟁작 ==\",\"== 한류 붐 ==\",\"== 같이 보기 ==\",\"== 오리지널 사운드트랙 ==\",\"== 수상 경력 및 후보 ==\",\"== 관련 도서 ==\",\"== 제작진 ==\",\"== 연장 ==\",\"== 해외 방영 ==\",\"== 특이 사항 ==\",\"== 음악 ==\",\n",
    "               \"== 촬영 장소 ==\",\"== 기획의도 ==\",\"== 회차별 줄거리 ==\",\"== 드라마 속 드라마 ==\",\"== 관련 서적 ==\",\"== 원작 ==\",\"== 주제 ==\",\"== 제작 ==\",\"== 인기 ==\",\"== 수상 경력 및 후보 ==\"]\n",
    "\n",
    "# Later:\n",
    "# * Need to sort by Korean characters"
   ]
  },
  {
   "cell_type": "code",
   "execution_count": 4,
   "metadata": {},
   "outputs": [],
   "source": [
    "def get_raw_text(title):\n",
    "    params = {\"format\":\"xml\", \"action\":\"query\", \"prop\":\"revisions\", \"rvprop\":\"timestamp|user|comment|content\"}\n",
    "    params[\"titles\"] = \"API|%s\" % urllib.parse.quote(title.encode(\"utf8\"))\n",
    "    qs = \"&\".join(\"%s=%s\" % (k, v)  for k, v in params.items()) #query string\n",
    "    url = \"http://ko.wikipedia.org/w/api.php?%s\" % qs\n",
    "    tree = lxml.etree.parse(urlopen(url))\n",
    "    revs = tree.xpath('//rev')\n",
    "    raw_text = revs[-1].text\n",
    "    return raw_text"
   ]
  },
  {
   "cell_type": "code",
   "execution_count": 5,
   "metadata": {},
   "outputs": [],
   "source": [
    "def extract_infobox(raw_text, infobox_fields):\n",
    "    \"\"\"\n",
    "    Using Wiki's unique format rules, extract infobox data\n",
    "    Returns infobox data in a dictionary\n",
    "    \"\"\"\n",
    "    infobox_start_idx = raw_text.find(\"{{텔레비전 프로그램 정보\")\n",
    "    infobox_end_idx = raw_text.find(\"《'''\")\n",
    "    infobox_text = raw_text[infobox_start_idx:infobox_end_idx]\n",
    "    \n",
    "    infobox_field_pos = [infobox_text.find(field) for field in infobox_fields]\n",
    "    field_pos_pair = list(zip(infobox_field_pos,infobox_fields))\n",
    "    field_pos_pair = sorted(field_pos_pair, key=lambda tup: tup[0]) \n",
    "    \n",
    "    infobox_dic = {}\n",
    "    for idx, field in enumerate(field_pos_pair):\n",
    "        if field[0] <0:  # If there is no value, pass\n",
    "            pass\n",
    "        else: \n",
    "            field_name = field[1]\n",
    "            start_idx = field[0] + len(field_name) + len(\" = \")\n",
    "            if idx == len(field_pos_pair) - 1:\n",
    "                end_idx = len(infobox_text)\n",
    "            else: \n",
    "                end_idx = field_pos_pair[idx + 1][0]-1\n",
    "                \n",
    "            infobox_dic[field_name] = infobox_text[start_idx:end_idx].rstrip() \n",
    "    return infobox_dic"
   ]
  },
  {
   "cell_type": "code",
   "execution_count": 6,
   "metadata": {},
   "outputs": [],
   "source": [
    "#test_dict = extract_infobox(text_raw,infobox_fields)\n",
    "#print(test_dict['연출'])"
   ]
  },
  {
   "cell_type": "code",
   "execution_count": 7,
   "metadata": {},
   "outputs": [],
   "source": [
    "def remove_ref(input_string):\n",
    "    ref_pos = []\n",
    "    back_ref_pos = []\n",
    "    for idx, char in enumerate(input_string):\n",
    "        test_string_1 = input_string[idx:idx+5]\n",
    "        if test_string_1 == \"<ref>\":\n",
    "            ref_pos.append(idx)\n",
    "    for idx, char in enumerate(input_string):\n",
    "        test_string_2 = input_string[idx:idx+6]\n",
    "        if test_string_2 == \"</ref>\":\n",
    "            back_ref_pos.append(idx)\n",
    "            \n",
    "    ref_pair = list(zip(ref_pos,back_ref_pos))\n",
    "    remove_text = []\n",
    "    for pair in ref_pair:\n",
    "        target_text = input_string[pair[0]:pair[1]+6]\n",
    "        remove_text.append(target_text)\n",
    "    \n",
    "    clean_input_string = input_string\n",
    "    for text in remove_text:\n",
    "        clean_input_string = clean_input_string.replace(text, \"\")\n",
    "        \n",
    "    return clean_input_string    "
   ]
  },
  {
   "cell_type": "code",
   "execution_count": 8,
   "metadata": {},
   "outputs": [],
   "source": [
    "def extract_summary(raw_text):\n",
    "    \"\"\"\n",
    "    Using Wiki's unique format rules, extract summary\n",
    "    Returns summary as string\n",
    "    \"\"\"\n",
    "    summary_start_idx = raw_text.find(\"《'''\")\n",
    "    summary_end_idx = raw_text.find(\"==\")\n",
    "    summary_text = raw_text[summary_start_idx:summary_end_idx].rstrip()\n",
    "    summary_text_clean = remove_ref(summary_text)\n",
    "    return summary_text_clean"
   ]
  },
  {
   "cell_type": "code",
   "execution_count": 9,
   "metadata": {},
   "outputs": [],
   "source": [
    "#test_summary = extract_summary(text_raw)\n",
    "#print(test_summary)"
   ]
  },
  {
   "cell_type": "code",
   "execution_count": 10,
   "metadata": {},
   "outputs": [],
   "source": [
    "def extract_tag(raw_text):\n",
    "    \"\"\"\n",
    "    Using Wiki's unique format rules, extract tags\n",
    "    Returns tags as list\n",
    "    \"\"\"\n",
    "    tag_start_idx = raw_text.find(\"[[분류:\")\n",
    "    tag_end_idx = len(raw_text)\n",
    "    tag_text = raw_text[tag_start_idx:tag_end_idx]\n",
    "    cat_pos = [pos for pos, char in enumerate(tag_text) if char == \":\"]\n",
    "    tags = []\n",
    "    for idx, pos in enumerate(cat_pos):\n",
    "        start_idx = pos+1\n",
    "        if idx == len(cat_pos)-1:\n",
    "            end_idx = len(tag_text)\n",
    "        else:\n",
    "            end_idx = cat_pos[idx + 1] - 7\n",
    "        tag = tag_text[start_idx:end_idx]\n",
    "        tags.append(tag)\n",
    "    return tags"
   ]
  },
  {
   "cell_type": "markdown",
   "metadata": {},
   "source": [
    "# Step 2: Clean up the data (In the text section)\n",
    "* parse\n",
    "* date format\n",
    "* other dictionaies & indecies\n",
    "* scrape plot\n",
    "* create English version"
   ]
  },
  {
   "cell_type": "markdown",
   "metadata": {},
   "source": [
    "## 등장 인물"
   ]
  },
  {
   "cell_type": "code",
   "execution_count": 11,
   "metadata": {},
   "outputs": [],
   "source": [
    "#test_people = (wiki_metadata['별에서_온_그대']['등장 인물'])"
   ]
  },
  {
   "cell_type": "code",
   "execution_count": 12,
   "metadata": {},
   "outputs": [],
   "source": [
    "def find_pos_string(input_string,find_string):\n",
    "    target_pos = []\n",
    "    for idx, char in enumerate(input_string):\n",
    "        test_string = input_string[idx:idx+3]\n",
    "        if test_string == find_string:\n",
    "            target_pos.append(idx)\n",
    "    return target_pos    "
   ]
  },
  {
   "cell_type": "code",
   "execution_count": 22,
   "metadata": {},
   "outputs": [],
   "source": [
    "def cast_category(cast_raw_text):\n",
    "    \"\"\"\n",
    "    Using Wiki's unique format, extract cast category chunks.\n",
    "    Return dic with cast category as key, and its text(raw) as value.\n",
    "    \"\"\"\n",
    "    category_divider_idx = []\n",
    "    cast_category = []\n",
    "    cast_dic = {}\n",
    "    category_divider_pos = find_pos_string(cast_raw_text, \"===\")\n",
    "    for x,y in zip(category_divider_pos[0::2], category_divider_pos[1::2]):\n",
    "        idx = list((x,y))\n",
    "        category_divider_idx.append(idx)\n",
    "    for idx, pair in enumerate(category_divider_idx):\n",
    "        title_start_idx = pair[0]+4\n",
    "        title_end_idx = pair[1]-1\n",
    "        text_start_idx = pair[0]+14\n",
    "        if idx == len(category_divider_idx)-1:\n",
    "            text_end_idx = len(cast_raw_text)\n",
    "        else:\n",
    "            text_end_idx = category_divider_idx[idx+1][0]-2\n",
    "        \n",
    "        cast_dic[cast_raw_text[title_start_idx:title_end_idx]]= cast_name(cast_raw_text[text_start_idx:text_end_idx])  #cast_raw_text[text_start_idx:text_end_idx]\n",
    "    return cast_dic"
   ]
  },
  {
   "cell_type": "code",
   "execution_count": 23,
   "metadata": {},
   "outputs": [],
   "source": [
    "#cast_dict = cast_category(test_people)\n",
    "#print(cast_dict['그 외 인물'])"
   ]
  },
  {
   "cell_type": "code",
   "execution_count": 24,
   "metadata": {},
   "outputs": [],
   "source": [
    "def cast_name(cast_dic):\n",
    "    cast_text = cast_dic\n",
    "    person_pos = [pos for pos, char in enumerate(cast_text) if char == \"*\"]\n",
    "    name_stop = [pos for pos, char in enumerate(cast_text) if char == \"]\"]\n",
    "    cast_names = []\n",
    "    for pos in person_pos:\n",
    "        name_field = cast_text[pos:pos+25]\n",
    "        end_idx = name_field.find(']]') + pos\n",
    "        name = cast_text[pos+4:end_idx]\n",
    "        cast_names.append(name)\n",
    "    return cast_names\n",
    "    \n",
    "#cast_names = cast_name(test_people)\n",
    "#cast_names"
   ]
  },
  {
   "cell_type": "markdown",
   "metadata": {},
   "source": [
    "## 시청율"
   ]
  },
  {
   "cell_type": "code",
   "execution_count": 25,
   "metadata": {},
   "outputs": [],
   "source": [
    "# Later"
   ]
  },
  {
   "cell_type": "markdown",
   "metadata": {},
   "source": [
    "## OST"
   ]
  },
  {
   "cell_type": "code",
   "execution_count": 26,
   "metadata": {},
   "outputs": [],
   "source": [
    "# Later "
   ]
  },
  {
   "cell_type": "markdown",
   "metadata": {},
   "source": [
    "## Combine text extraction functions"
   ]
  },
  {
   "cell_type": "code",
   "execution_count": 27,
   "metadata": {},
   "outputs": [],
   "source": [
    "def extract_text(raw_text):\n",
    "    \"\"\"\n",
    "    Using Wiki's unique format rules, extract text\n",
    "    Returns text in dictionary\n",
    "    \"\"\"\n",
    "    text_start_idx = raw_text.find(\"==\")\n",
    "    text_end_idx = raw_text.find(\"[[분류:\")\n",
    "    text = raw_text[text_start_idx:text_end_idx]\n",
    "    \n",
    "    text_pos = [text.find(field) for field in text_fields]\n",
    "    text_pos_pair = list(zip(text_pos, text_fields))\n",
    "    text_pos_pair = sorted(text_pos_pair, key = lambda tup:tup[0])\n",
    "    \n",
    "    text_dic = {}\n",
    "    for idx, field in enumerate(text_pos_pair):\n",
    "        if field[0] <0:  # If there is no value, pass\n",
    "            pass\n",
    "        else: \n",
    "            field_name = field[1][3:-3]\n",
    "            start_idx = field[0] + len(field_name) + 6\n",
    "            if idx == len(text_pos_pair) - 1:\n",
    "                end_idx = len(text)\n",
    "            else: \n",
    "                end_idx = text_pos_pair[idx + 1][0]-1\n",
    "\n",
    "            \"\"\"\n",
    "            Handle cast starts\n",
    "            \"\"\"\n",
    "            \n",
    "            if field_name == \"등장 인물\":\n",
    "                text_dic[field_name] = {}\n",
    "                cast_raw_text = remove_ref(text[start_idx:end_idx].rstrip())\n",
    "                cast_dict = cast_category(cast_raw_text)\n",
    "                \n",
    "                text_dic[field_name] = cast_dict\n",
    "            else:           \n",
    "                text_dic[field_name] = remove_ref(text[start_idx:end_idx].rstrip())\n",
    "    return text_dic"
   ]
  },
  {
   "cell_type": "code",
   "execution_count": 28,
   "metadata": {},
   "outputs": [],
   "source": [
    "# text_dic = extract_text(text_raw)\n",
    "# text_dic.keys()\n",
    "# print(text_dic['이모저모'])"
   ]
  },
  {
   "cell_type": "markdown",
   "metadata": {},
   "source": [
    "# Step 3: Scrape everything"
   ]
  },
  {
   "cell_type": "code",
   "execution_count": 29,
   "metadata": {},
   "outputs": [],
   "source": [
    "def extract_everything(title_lists):\n",
    "    wiki_dic = {}\n",
    "    for title in title_lists:\n",
    "        wiki_dic[title] = {}\n",
    "        raw_text = get_raw_text(title)\n",
    "        \n",
    "        infobox_dic = extract_infobox(raw_text, infobox_fields)\n",
    "        summary = extract_summary(raw_text)\n",
    "        tags = extract_tag(raw_text)\n",
    "        texts = extract_text(raw_text)\n",
    "        \n",
    "        wiki_dic[title] = infobox_dic\n",
    "        wiki_dic[title]['summary'] = summary\n",
    "        wiki_dic[title]['tags'] = tags\n",
    "        wiki_dic[title] = texts\n",
    "    return wiki_dic"
   ]
  },
  {
   "cell_type": "code",
   "execution_count": 30,
   "metadata": {},
   "outputs": [],
   "source": [
    "wiki_metadata = extract_everything(movie_list)\n",
    "#print(wiki_metadata['별에서_온_그대']['등장 인물']['도민준 주변 인물'])"
   ]
  },
  {
   "cell_type": "code",
   "execution_count": 31,
   "metadata": {},
   "outputs": [
    {
     "data": {
      "text/plain": [
       "dict_keys(['사운드트랙', '결방 사유 및 연장', '등장 인물', '표절 논란', '시청률', '수상 경력', '이모저모', '동시간대 드라마'])"
      ]
     },
     "execution_count": 31,
     "metadata": {},
     "output_type": "execute_result"
    }
   ],
   "source": [
    "wiki_metadata['별에서_온_그대'].keys()"
   ]
  },
  {
   "cell_type": "code",
   "execution_count": 34,
   "metadata": {},
   "outputs": [
    {
     "data": {
      "text/plain": [
       "['유인영',\n",
       " '유준상 (배우)|유준상',\n",
       " '달샤벳',\n",
       " '김생민',\n",
       " '박정아 (1981년)|박정아',\n",
       " '장항준',\n",
       " '손은서',\n",
       " '전인택',\n",
       " '김수로 (배우)|김수로',\n",
       " '정은표',\n",
       " '정윤기 (스타일리스트)|정윤기',\n",
       " '박영규 (배우)|박영규',\n",
       " '장동규',\n",
       " '조영구',\n",
       " '노형욱 (배우)|노형욱',\n",
       " '수지 (대한민국의 가수)|수지',\n",
       " '연우진',\n",
       " '류승룡',\n",
       " '양주호',\n",
       " '김성준 (기자)|김성준',\n",
       " '박산다라']"
      ]
     },
     "execution_count": 34,
     "metadata": {},
     "output_type": "execute_result"
    }
   ],
   "source": [
    "wiki_metadata['별에서_온_그대']['등장 인물']['특별 출연']"
   ]
  },
  {
   "cell_type": "code",
   "execution_count": 37,
   "metadata": {},
   "outputs": [],
   "source": [
    "# Convert dictionary into json\n",
    "import json"
   ]
  },
  {
   "cell_type": "code",
   "execution_count": 55,
   "metadata": {},
   "outputs": [],
   "source": [
    "wiki_meta_json = json.dumps(wiki_metadata, ensure_ascii=False)\n",
    "loaded_wiki_meta_json = json.loads(wiki_meta_json)"
   ]
  },
  {
   "cell_type": "code",
   "execution_count": null,
   "metadata": {},
   "outputs": [],
   "source": [
    "loaded_wiki_meta_json[]"
   ]
  },
  {
   "cell_type": "code",
   "execution_count": null,
   "metadata": {},
   "outputs": [],
   "source": []
  },
  {
   "cell_type": "markdown",
   "metadata": {},
   "source": [
    "# Step 3: Save in database"
   ]
  },
  {
   "cell_type": "code",
   "execution_count": 57,
   "metadata": {},
   "outputs": [],
   "source": [
    "import elasticsearch\n",
    "import os"
   ]
  },
  {
   "cell_type": "code",
   "execution_count": null,
   "metadata": {},
   "outputs": [],
   "source": []
  },
  {
   "cell_type": "code",
   "execution_count": 58,
   "metadata": {},
   "outputs": [],
   "source": [
    "es_cluster = 'http://localhost:9200/'\n",
    "es_index = 'k5_test'\n",
    "es_type = 'doc'"
   ]
  },
  {
   "cell_type": "code",
   "execution_count": 59,
   "metadata": {},
   "outputs": [],
   "source": [
    "es = elasticsearch.Elasticsearch(es_cluster)"
   ]
  },
  {
   "cell_type": "code",
   "execution_count": 88,
   "metadata": {},
   "outputs": [],
   "source": [
    "idx = 0\n",
    "movie_titles = wiki_metadata.keys()\n",
    "\n",
    "for title in movie_titles:\n",
    "    es.index(index = 'k5_movie', doc_type = 'doc', id = idx, body = {\n",
    "        'title' : title,\n",
    "        #'cast' : wiki_metadata[title]['등장 인물'],\n",
    "        #'plot' : wiki_metadata[title]['줄거리'],\n",
    "        'body' : wiki_metadata[title]\n",
    "    })\n",
    "    idx += 1"
   ]
  },
  {
   "cell_type": "code",
   "execution_count": 94,
   "metadata": {},
   "outputs": [
    {
     "data": {
      "text/plain": [
       "{'_id': '1',\n",
       " '_index': 'k5_movie',\n",
       " '_source': {'body': {'등장 인물': {'특별 출연': ['대한제국 순종|순종', '', '주상욱', '2011년']},\n",
       "   '시청률': '\\n{|class=wikitable\\n!colspan=\"6\" | [[2011년]]\\n|-align=center\\n!rowspan=\"2\"|회차\\n!rowspan=\"2\"|방송일\\n!colspan=\"2\"|[[TNmS]] 시청률\\n!colspan=\"2\"|[[AGB 닐슨 미디어 리서치|AGB]] 시청률\\n|-\\n!대한민국(전국)\\n!서울(수도권)\\n!대한민국(전국)\\n!서울(수도권)\\'\\'\\'\\n|-align=center\\n!제1회\\n|[[1월 5일]]\\n|13.0%\\n|17.1%\\n|15.9%\\n|17.5%\\n|-align=center\\n!제2회\\n|[[1월 6일]]\\n|14.3%\\n|17.2%\\n|17.6%\\n|19.8%\\n|-align=center\\n!제3회\\n|[[1월 12일]]\\n|16.2%\\n|20.0%\\n|20.0%\\n|21.7%\\n|-align=center\\n!제4회\\n|[[1월 13일]]\\n|<span style=color:red>\\'\\'\\'17.0%\\'\\'\\'</span>\\n|<span style=color:red>\\'\\'\\'22.7%\\'\\'\\'</span>\\n|<span style=color:red>\\'\\'\\'20.9%\\'\\'\\'</span>\\n|<span style=color:red>\\'\\'\\'23.0%\\'\\'\\'</span>\\n|-align=center\\n!제5회\\n|[[1월 19일]]\\n|16.9%\\n|21.9%\\n|18.8%\\n|21.0%\\n|-align=center\\n!제6회\\n|[[1월 20일]]\\n|14.0%\\n|18.4%\\n|18.8%\\n|21.3%\\n|-align=center\\n!제7회\\n|[[1월 26일]]\\n|14.1%\\n|18.2%\\n|15.7%\\n|17.7%\\n|-align=center\\n!제8회\\n|[[1월 27일]]\\n|14.5%\\n|18.0%\\n|17.4%\\n|20.0%\\n|-align=center\\n!제9회\\n|[[2월 2일]]\\n|9.9%\\n|11.8%\\n|12.1%\\n|13.6%\\n|-align=center\\n!제10회\\n|[[2월 3일]]\\n|<span style=color:blue>\\'\\'\\'8.4%\\'\\'\\'</span>\\n|<span style=color:blue>\\'\\'\\'10.1%\\'\\'\\'</span>\\n|<span style=color:blue>\\'\\'\\'11.3%\\'\\'\\'</span>\\n|<span style=color:blue>\\'\\'\\'13.0%\\'\\'\\'</span>\\n|-align=center\\n!제11회\\n|[[2월 9일]]\\n|12.0%\\n|14.7%\\n|15.2%\\n|17.7%\\n|-align=center\\n!제12회\\n|[[2월 10일]]\\n|12.4%\\n|15.8%\\n|14.8%\\n|17.0%\\n|-align=center\\n!제13회\\n|[[2월 16일]]\\n|12.6%\\n|15.5%\\n|15.3%\\n|17.9%\\n|-align=center\\n!제14회\\n|[[2월 17일]]\\n|12.3%\\n|15.5%\\n|15.1%\\n|17.4%\\n|-align=center\\n!제15회\\n|[[2월 23일]]\\n|12.0%\\n|15.6%\\n|14.6%\\n|16.7%\\n|-align=center\\n!제16회\\n|[[2월 24일]]\\n|12.3%\\n|15.4%\\n|15.0%\\n|17.2%\\n|-align=center\\n|}\\n\\n== 경쟁 프로그램 ==\\n* [[싸인 (드라마)|싸인]] ([[SBS TV|SBS]])\\n* [[프레지던트 (드라마)|프레지던트]] ([[KBS 제2TV|KBS 2TV]])',\n",
       "   '제작진': \"\\n* '''기획''' : 한희\\n* '''각본''' : 장영실\\n* '''연출''' : [[권석장]], 강대선\\n* '''제작''' : 이선상, 이주열\\n* '''방송사''' : [[문화방송|MBC]]\\n\\n== 각주 ==\\n<references/>\\n\\n== 외부 링크 ==\\n* [http://www.imbc.com/broad/tv/drama/myprincess MBC 마이 프린세스 홈페이지]\\n\\n{{전작후작\\n|방송국=[[문화방송]]\\n|방송개요=[[문화방송 수목 미니시리즈|수목 미니시리즈]]\\n|이전 작품=[[즐거운 나의 집 (드라마)|즐거운 나의 집]]<br /> ([[2010년]] [[10월 27일]] ~ [[2010년]] [[12월 23일]])\\n|작품명=마이 프린세스<br /> ([[2011년]] [[1월 5일]] ~ [[2011년]] [[2월 24일]])\\n|다음 작품=[[로열 패밀리 (드라마)|로열 패밀리]]<br /> ([[2011년]] [[3월 2일]] ~ [[2011년]] [[4월 28일]])\\n}}\\n\\n{{문화방송 수목 미니시리즈}}\"},\n",
       "  'title': '마이_프린세스'},\n",
       " '_type': 'doc',\n",
       " '_version': 4,\n",
       " 'found': True}"
      ]
     },
     "execution_count": 94,
     "metadata": {},
     "output_type": "execute_result"
    }
   ],
   "source": [
    "es.get(index = 'k5_movie', doc_type = 'doc', id = 1)"
   ]
  },
  {
   "cell_type": "code",
   "execution_count": null,
   "metadata": {},
   "outputs": [],
   "source": []
  },
  {
   "cell_type": "code",
   "execution_count": null,
   "metadata": {},
   "outputs": [],
   "source": []
  },
  {
   "cell_type": "code",
   "execution_count": null,
   "metadata": {},
   "outputs": [],
   "source": []
  },
  {
   "cell_type": "code",
   "execution_count": null,
   "metadata": {},
   "outputs": [],
   "source": []
  },
  {
   "cell_type": "code",
   "execution_count": null,
   "metadata": {},
   "outputs": [],
   "source": []
  },
  {
   "cell_type": "code",
   "execution_count": null,
   "metadata": {},
   "outputs": [],
   "source": []
  },
  {
   "cell_type": "code",
   "execution_count": null,
   "metadata": {},
   "outputs": [],
   "source": []
  },
  {
   "cell_type": "code",
   "execution_count": null,
   "metadata": {},
   "outputs": [],
   "source": []
  },
  {
   "cell_type": "code",
   "execution_count": null,
   "metadata": {},
   "outputs": [],
   "source": []
  }
 ],
 "metadata": {
  "kernelspec": {
   "display_name": "Python 3",
   "language": "python",
   "name": "python3"
  },
  "language_info": {
   "codemirror_mode": {
    "name": "ipython",
    "version": 3
   },
   "file_extension": ".py",
   "mimetype": "text/x-python",
   "name": "python",
   "nbconvert_exporter": "python",
   "pygments_lexer": "ipython3",
   "version": "3.4.5"
  }
 },
 "nbformat": 4,
 "nbformat_minor": 2
}
